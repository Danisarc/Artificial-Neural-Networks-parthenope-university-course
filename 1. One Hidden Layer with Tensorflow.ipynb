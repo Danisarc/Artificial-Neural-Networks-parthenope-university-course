{
  "cells": [
    {
      "cell_type": "markdown",
      "metadata": {
        "colab_type": "text",
        "id": "JdAhwJlcoW5q"
      },
      "source": [
        "#Median House Value with one-hidden layer neural networks (Classification)"
      ]
    },
    {
      "cell_type": "markdown",
      "metadata": {
        "colab_type": "text",
        "id": "or0Bc7cY6PBK"
      },
      "source": [
        "Runtime type has been set to TPU"
      ]
    },
    {
      "cell_type": "code",
      "execution_count": 1,
      "metadata": {
        "colab": {
          "base_uri": "https://localhost:8080/",
          "height": 172
        },
        "colab_type": "code",
        "id": "kUkW4JNxoW5s",
        "outputId": "fb94ee1e-27a3-4c6b-e9f1-933b039cdb39"
      },
      "outputs": [
        {
          "ename": "ModuleNotFoundError",
          "evalue": "No module named 'tensorflow'",
          "output_type": "error",
          "traceback": [
            "\u001b[1;31m---------------------------------------------------------------------------\u001b[0m",
            "\u001b[1;31mModuleNotFoundError\u001b[0m                       Traceback (most recent call last)",
            "\u001b[1;32m<ipython-input-1-862086cb8998>\u001b[0m in \u001b[0;36m<module>\u001b[1;34m\u001b[0m\n\u001b[1;32m----> 1\u001b[1;33m \u001b[1;32mimport\u001b[0m \u001b[0mtensorflow\u001b[0m \u001b[1;32mas\u001b[0m \u001b[0mtf\u001b[0m\u001b[1;33m\u001b[0m\u001b[1;33m\u001b[0m\u001b[0m\n\u001b[0m\u001b[0;32m      2\u001b[0m \u001b[1;33m\u001b[0m\u001b[0m\n\u001b[0;32m      3\u001b[0m \u001b[1;32mimport\u001b[0m \u001b[0mnumpy\u001b[0m \u001b[1;32mas\u001b[0m \u001b[0mnp\u001b[0m\u001b[1;33m\u001b[0m\u001b[1;33m\u001b[0m\u001b[0m\n\u001b[0;32m      4\u001b[0m \u001b[1;32mimport\u001b[0m \u001b[0mpandas\u001b[0m \u001b[1;32mas\u001b[0m \u001b[0mpd\u001b[0m\u001b[1;33m\u001b[0m\u001b[1;33m\u001b[0m\u001b[0m\n\u001b[0;32m      5\u001b[0m \u001b[1;32mimport\u001b[0m \u001b[0mmatplotlib\u001b[0m\u001b[1;33m.\u001b[0m\u001b[0mpyplot\u001b[0m \u001b[1;32mas\u001b[0m \u001b[0mplt\u001b[0m\u001b[1;33m\u001b[0m\u001b[1;33m\u001b[0m\u001b[0m\n",
            "\u001b[1;31mModuleNotFoundError\u001b[0m: No module named 'tensorflow'"
          ]
        }
      ],
      "source": [
        "import tensorflow as tf\n",
        "\n",
        "import numpy as np\n",
        "import pandas as pd\n",
        "import matplotlib.pyplot as plt\n",
        "from tqdm import tqdm\n",
        "from google.colab import drive\n",
        "drive.mount('/gdrive', force_remount=True)"
      ]
    },
    {
      "cell_type": "code",
      "execution_count": 2,
      "metadata": {
        "colab": {
          "base_uri": "https://localhost:8080/",
          "height": 108
        },
        "colab_type": "code",
        "id": "3yXumtJ0oW5y",
        "outputId": "849e4694-c1df-48a8-a234-5f698d9e89df"
      },
      "outputs": [
        {
          "name": "stdout",
          "output_type": "stream",
          "text": [
            "x_train: (16342, 9)\n",
            "t_train: (16342, 3)\n",
            "x_dev: (2043, 9)\n",
            "t_dev: (2043, 3)\n"
          ]
        }
      ],
      "source": [
        "# Modify the paths accordingly to point the csv files in your own gdrive file system.\n",
        "ATT_FILE = \"/gdrive/My Drive/Colab Notebooks/datasets/Housing/MedianHouseValue/MedianHouseValuePreparedCleanAttributes.csv\"\n",
        "LABEL_FILE = \"/gdrive/My Drive/Colab Notebooks/datasets/Housing/MedianHouseValue/MedianHouseValueOneHotEncodedClasses.csv\"\n",
        "\n",
        "TRAIN_RATE=0.8 # 80% of the entire dataset is for training purposes\n",
        "\n",
        "attributes = pd.read_csv(ATT_FILE)\n",
        "label = pd.read_csv(LABEL_FILE)\n",
        "\n",
        "n_instances = attributes.shape[0]\n",
        "n_train = int(n_instances*TRAIN_RATE)\n",
        "n_dev = int((n_instances-n_train)/2)\n",
        "#n_final_test = n_instances-n_train-n_dev\n",
        "\n",
        "x_train = attributes.values[:n_train]\n",
        "t_train = label.values[:n_train]\n",
        "\n",
        "x_dev = attributes.values[n_train:n_train+n_dev]\n",
        "t_dev = label.values[n_train:n_train+n_dev]\n",
        "\n",
        "print (\"x_train:\",x_train.shape)\n",
        "print (\"t_train:\",t_train.shape)\n",
        "\n",
        "print (\"x_dev:\",x_dev.shape)\n",
        "print (\"t_dev:\",t_dev.shape)\n",
        "\n",
        "# We can not employ the final test set yet, since this is not the final neural approach "
      ]
    },
    {
      "cell_type": "markdown",
      "metadata": {
        "colab_type": "text",
        "id": "XFxLit6PoW55"
      },
      "source": [
        "## Initialization"
      ]
    },
    {
      "cell_type": "code",
      "execution_count": null,
      "metadata": {
        "colab": {},
        "colab_type": "code",
        "id": "awoTBHr_oW56"
      },
      "outputs": [],
      "source": [
        "INPUTS = x_train.shape[1]\n",
        "OUTPUTS = t_train.shape[1]\n",
        "NUM_TRAINING_EXAMPLES = int(round(x_train.shape[0]/1))\n",
        "NUM_DEV_EXAMPLES = int (round (x_dev.shape[0]/1))"
      ]
    },
    {
      "cell_type": "markdown",
      "metadata": {
        "colab_type": "text",
        "id": "1dozYxaroW59"
      },
      "source": [
        "Some data is displayed to test correctness:"
      ]
    },
    {
      "cell_type": "code",
      "execution_count": 5,
      "metadata": {
        "colab": {
          "base_uri": "https://localhost:8080/",
          "height": 213
        },
        "colab_type": "code",
        "id": "oo0AUb67oW6I",
        "outputId": "1e656243-9d74-4a0f-ce34-8522a45b326d"
      },
      "outputs": [
        {
          "data": {
            "text/plain": [
              "array([[ 0.21713147, -0.69394261,  0.41176471, -0.93926446, -0.88733706,\n",
              "        -0.90924634, -0.89278079, -0.77585137, -1.        ],\n",
              "       [-0.69322709,  0.17747078, -0.29411765, -0.91795107, -0.88671633,\n",
              "        -0.95448303, -0.88949186, -0.59159184,  1.        ],\n",
              "       [ 0.44820717, -0.95961743,  0.37254902, -0.8306628 , -0.80074488,\n",
              "        -0.89349477, -0.79575728, -0.5589716 ,  1.        ],\n",
              "       [ 0.29083665, -0.7088204 , -0.41176471, -0.87629076, -0.85909373,\n",
              "        -0.94315984, -0.84377569, -0.48705535, -1.        ],\n",
              "       [-0.40039841,  0.15834219, -0.49019608, -0.8418536 , -0.84574798,\n",
              "        -0.93413493, -0.82765992, -0.16468738, -0.33333333]])"
            ]
          },
          "execution_count": 5,
          "metadata": {
            "tags": []
          },
          "output_type": "execute_result"
        }
      ],
      "source": [
        "x_train[:5]"
      ]
    },
    {
      "cell_type": "code",
      "execution_count": 6,
      "metadata": {
        "colab": {
          "base_uri": "https://localhost:8080/",
          "height": 125
        },
        "colab_type": "code",
        "id": "7nMjKqIVoW6K",
        "outputId": "2bbf5634-254d-4256-9ddf-9ffcfff2cc71"
      },
      "outputs": [
        {
          "data": {
            "text/plain": [
              "array([[1., 0., 0.],\n",
              "       [0., 0., 1.],\n",
              "       [1., 0., 0.],\n",
              "       [0., 1., 0.],\n",
              "       [0., 0., 1.]])"
            ]
          },
          "execution_count": 6,
          "metadata": {
            "tags": []
          },
          "output_type": "execute_result"
        }
      ],
      "source": [
        "t_train[:5]"
      ]
    },
    {
      "cell_type": "code",
      "execution_count": 7,
      "metadata": {
        "colab": {
          "base_uri": "https://localhost:8080/",
          "height": 213
        },
        "colab_type": "code",
        "id": "RykFpOoboW6M",
        "outputId": "bc80d7e8-8fc4-4dd7-a274-91f15bb942fc"
      },
      "outputs": [
        {
          "data": {
            "text/plain": [
              "array([[ 0.22908367, -0.67906482,  0.45098039, -0.83366397, -0.77343265,\n",
              "        -0.81524146, -0.76155238, -0.67868029, -1.        ],\n",
              "       [-0.61752988,  0.10308183,  1.        , -0.94201129, -0.93078833,\n",
              "        -0.97247681, -0.93257688, -0.37100178,  0.33333333],\n",
              "       [-0.39043825,  0.16046759, -0.88235294, -0.92929447, -0.90037244,\n",
              "        -0.90016536, -0.89870087, -0.74136908, -0.33333333],\n",
              "       [-0.24701195, -0.45377258, -0.33333333, -0.85156926, -0.82774674,\n",
              "        -0.94030102, -0.81877981, -0.58286093, -1.        ],\n",
              "       [ 0.22908367, -0.73645058, -0.25490196, -0.90589552, -0.82774674,\n",
              "        -0.90420135, -0.81746423, -0.86805699,  1.        ]])"
            ]
          },
          "execution_count": 7,
          "metadata": {
            "tags": []
          },
          "output_type": "execute_result"
        }
      ],
      "source": [
        "x_dev[:5]"
      ]
    },
    {
      "cell_type": "code",
      "execution_count": 8,
      "metadata": {
        "colab": {
          "base_uri": "https://localhost:8080/",
          "height": 125
        },
        "colab_type": "code",
        "id": "7cy975RjoW6N",
        "outputId": "9396a976-fb93-449d-f1d5-76b08bdfce3f"
      },
      "outputs": [
        {
          "data": {
            "text/plain": [
              "array([[1., 0., 0.],\n",
              "       [0., 0., 1.],\n",
              "       [1., 0., 0.],\n",
              "       [0., 1., 0.],\n",
              "       [0., 1., 0.]])"
            ]
          },
          "execution_count": 8,
          "metadata": {
            "tags": []
          },
          "output_type": "execute_result"
        }
      ],
      "source": [
        "t_dev[:5]"
      ]
    },
    {
      "cell_type": "markdown",
      "metadata": {
        "colab_type": "text",
        "id": "N1N4Lt6QoW6P"
      },
      "source": [
        "## Hyperparameters"
      ]
    },
    {
      "cell_type": "markdown",
      "metadata": {
        "colab_type": "text",
        "id": "dkkRVc5doW6Q"
      },
      "source": [
        "The learning rate $\\alpha$, the batch size, and the number of neurons in the hidden layer are the three hyperparameters to adjust. The learning process stops when it reaches 20,000 learning iterations. An iteration comprises presenting the network *batch_size* learning examples and then adjusting the weights (parameters)."
      ]
    },
    {
      "cell_type": "code",
      "execution_count": null,
      "metadata": {
        "colab": {},
        "colab_type": "code",
        "id": "nuHkCgWaoW6Q"
      },
      "outputs": [],
      "source": [
        "n_iterations = 20000 \n",
        "learning_rate = 0.1\n",
        "batch_size = 500\n",
        "n_hidden = 1000"
      ]
    },
    {
      "cell_type": "markdown",
      "metadata": {
        "colab_type": "text",
        "id": "QRLDF1BgoW6R"
      },
      "source": [
        "## Build the model: a full-connected 9-1000-3 neural network architecture"
      ]
    },
    {
      "cell_type": "code",
      "execution_count": null,
      "metadata": {
        "colab": {},
        "colab_type": "code",
        "id": "cRF22oktoW6S"
      },
      "outputs": [],
      "source": [
        "X = tf.placeholder (dtype=tf.float32, shape=(None,INPUTS),name=\"X\")\n",
        "t = tf.placeholder (dtype=tf.float32, shape=(None,OUTPUTS), name=\"t\")"
      ]
    },
    {
      "cell_type": "code",
      "execution_count": null,
      "metadata": {
        "colab": {},
        "colab_type": "code",
        "id": "oYJdN9Hp36-q"
      },
      "outputs": [],
      "source": [
        "W1 = tf.Variable (tf.random_uniform ([INPUTS,n_hidden],-1,1), name=\"W1\")\n",
        "b1 = tf.Variable (tf.zeros([n_hidden]), name = \"bias1\")\n",
        "W2 = tf.Variable (tf.random_uniform ([n_hidden,OUTPUTS],-1,1), name=\"W2\")\n",
        "b2 = tf.Variable (tf.zeros([OUTPUTS]), name = \"bias2\")"
      ]
    },
    {
      "cell_type": "markdown",
      "metadata": {
        "colab_type": "text",
        "id": "R_VmxXz7oW6T"
      },
      "source": [
        "A classical multilayer perceptron is defined: X is the input vector with 9 components, 1,000 neurons in the hidden layer with **tanh activation function**, and 3 outputs with the softmax activation function."
      ]
    },
    {
      "cell_type": "code",
      "execution_count": null,
      "metadata": {
        "colab": {},
        "colab_type": "code",
        "id": "EWat5nSv4iWe"
      },
      "outputs": [],
      "source": [
        "hidden = tf.nn.tanh(tf.add(tf.matmul(X,W1),b1), name=\"hidden\")\n",
        "net_out = tf.add (tf.matmul(hidden,W2),b2, name=\"net_out\")\n",
        "y = tf.nn.softmax (logits=net_out, name=\"y\")"
      ]
    },
    {
      "cell_type": "markdown",
      "metadata": {
        "colab_type": "text",
        "id": "mEsu9_TpoW6U"
      },
      "source": [
        "The $log-loss$, $cross-entropy$ (the sun of log-loss is a loss) and and $cost$ (the mean of cross-entropy) functions:"
      ]
    },
    {
      "cell_type": "code",
      "execution_count": null,
      "metadata": {
        "colab": {},
        "colab_type": "code",
        "id": "7BOr6g7qoW6V"
      },
      "outputs": [],
      "source": [
        "cross_entropy = tf.nn.softmax_cross_entropy_with_logits_v2 (labels=t, logits=net_out)\n",
        "mean_log_loss = tf.reduce_mean (cross_entropy, name=\"cost\")"
      ]
    },
    {
      "cell_type": "markdown",
      "metadata": {
        "colab_type": "text",
        "id": "I_7F4ReAoW6W"
      },
      "source": [
        "The training algorithm: gradient descent method:"
      ]
    },
    {
      "cell_type": "code",
      "execution_count": null,
      "metadata": {
        "colab": {},
        "colab_type": "code",
        "id": "Sf4nKA8DoW6W"
      },
      "outputs": [],
      "source": [
        "train_step = tf.train.GradientDescentOptimizer (learning_rate).minimize(mean_log_loss)"
      ]
    },
    {
      "cell_type": "markdown",
      "metadata": {
        "colab_type": "text",
        "id": "8sdXmmqFoW6Y"
      },
      "source": [
        "Model evaluation: accuracy. The percentage of correctly classified instances."
      ]
    },
    {
      "cell_type": "code",
      "execution_count": null,
      "metadata": {
        "colab": {},
        "colab_type": "code",
        "id": "fVKp4GProW6Y"
      },
      "outputs": [],
      "source": [
        "correct_predictions = tf.equal(tf.argmax(y,1),tf.argmax(t,1))\n",
        "accuracy = tf.reduce_mean(tf.cast(correct_predictions,tf.float32))"
      ]
    },
    {
      "cell_type": "markdown",
      "metadata": {
        "colab_type": "text",
        "id": "EIkJIxAjoW6Z"
      },
      "source": [
        "## Execute the model MBGD\n",
        "Since the batch size is 500 and the number of examples is 16,342, there are 33 iterations per epoch. Therefore 20,000 iterations are equivalent to about 600 epochs.  "
      ]
    },
    {
      "cell_type": "code",
      "execution_count": 17,
      "metadata": {
        "colab": {
          "base_uri": "https://localhost:8080/",
          "height": 55
        },
        "colab_type": "code",
        "id": "T730zK-FoW6a",
        "outputId": "008008b4-7479-4df7-b5ba-5f2e96df32fb"
      },
      "outputs": [
        {
          "name": "stderr",
          "output_type": "stream",
          "text": [
            "100%|██████████| 20000/20000 [02:33<00:00, 129.91it/s]\n"
          ]
        }
      ],
      "source": [
        "init = tf.global_variables_initializer()\n",
        "accuracy_train_history = []\n",
        "with tf.Session() as sess:\n",
        "    sess.run(init)\n",
        "    for iteration in tqdm(range(n_iterations)):\n",
        "        offset = (iteration * batch_size) % (NUM_TRAINING_EXAMPLES - batch_size)\n",
        "        sess.run (train_step, feed_dict={X: x_train[offset:(offset+batch_size)],\n",
        "                                         t: t_train[offset:(offset+batch_size)]})\n",
        "        accuracy_train_history.append (accuracy.eval(feed_dict=\n",
        "                                {X: x_train[offset:(offset+batch_size)],\n",
        "                                 t: t_train[offset:(offset+batch_size)]}))\n",
        "    accuracy_train = accuracy.eval(feed_dict={X: x_train[:NUM_TRAINING_EXAMPLES],\n",
        "                                              t: t_train[:NUM_TRAINING_EXAMPLES]})\n",
        "    accuracy_dev = accuracy.eval(feed_dict={X: x_dev[:NUM_DEV_EXAMPLES],\n",
        "                                              t: t_dev[:NUM_DEV_EXAMPLES]})\n",
        "    predictions = y.eval(feed_dict={X: x_dev[:NUM_DEV_EXAMPLES]})\n",
        "    final_correct_preditions = correct_predictions.eval (feed_dict=\n",
        "                                    {X: x_dev[:NUM_DEV_EXAMPLES],\n",
        "                                     t: t_dev[:NUM_DEV_EXAMPLES]})\n",
        "    final_train_mean_log_loss = mean_log_loss.eval (feed_dict=\n",
        "                                            {X: x_train[:NUM_TRAINING_EXAMPLES],\n",
        "                                              t: t_train[:NUM_TRAINING_EXAMPLES]})\n",
        "    final_dev_mean_log_loss = mean_log_loss.eval (feed_dict=\n",
        "                                            {X: x_dev[:NUM_DEV_EXAMPLES],\n",
        "                                              t: t_dev[:NUM_DEV_EXAMPLES]})"
      ]
    },
    {
      "cell_type": "code",
      "execution_count": 18,
      "metadata": {
        "colab": {
          "base_uri": "https://localhost:8080/",
          "height": 55
        },
        "colab_type": "code",
        "id": "A68CVMDloW6c",
        "outputId": "61d28cf0-e061-4941-f73a-2d48089b4fd7"
      },
      "outputs": [
        {
          "data": {
            "text/plain": [
              "'Accuracy in training: 0.75865865'"
            ]
          },
          "execution_count": 18,
          "metadata": {
            "tags": []
          },
          "output_type": "execute_result"
        }
      ],
      "source": [
        "\"Accuracy in training: \" + str(accuracy_train)"
      ]
    },
    {
      "cell_type": "code",
      "execution_count": 19,
      "metadata": {
        "colab": {
          "base_uri": "https://localhost:8080/",
          "height": 55
        },
        "colab_type": "code",
        "id": "7agWqqEOoW6f",
        "outputId": "2aaf9cd9-c9c0-4123-ca04-1ea78919a365"
      },
      "outputs": [
        {
          "data": {
            "text/plain": [
              "'Accuracy for the development test set: 0.7528145'"
            ]
          },
          "execution_count": 19,
          "metadata": {
            "tags": []
          },
          "output_type": "execute_result"
        }
      ],
      "source": [
        "\"Accuracy for the development test set: \" + str(accuracy_dev)"
      ]
    },
    {
      "cell_type": "code",
      "execution_count": 20,
      "metadata": {
        "colab": {
          "base_uri": "https://localhost:8080/",
          "height": 332
        },
        "colab_type": "code",
        "id": "orCObicboW6h",
        "outputId": "b2cec7cd-5d07-43cb-95de-094b98794e7a",
        "scrolled": true
      },
      "outputs": [
        {
          "data": {
            "text/plain": [
              "[<matplotlib.lines.Line2D at 0x7fa83c42beb8>]"
            ]
          },
          "execution_count": 20,
          "metadata": {
            "tags": []
          },
          "output_type": "execute_result"
        },
        {
          "data": {
            "image/png": "[encoded data removed]",
            "text/plain": [
              "<Figure size 432x288 with 1 Axes>"
            ]
          },
          "metadata": {
            "tags": []
          },
          "output_type": "display_data"
        }
      ],
      "source": [
        "plt.title (\"Accuracy Evolution\")\n",
        "plt.xlabel (\"Iterations\")\n",
        "plt.ylabel (\"Accuracy\")\n",
        "plt.plot (range(n_iterations),accuracy_train_history)"
      ]
    },
    {
      "cell_type": "markdown",
      "metadata": {
        "colab_type": "text",
        "id": "Uu0Fx3mAoW6j"
      },
      "source": [
        "Note that accuracy $zig$-$zags$ due to mini-batch $zig$-$zagging$ errors, yet the trend is positive.  "
      ]
    },
    {
      "cell_type": "code",
      "execution_count": 21,
      "metadata": {
        "colab": {
          "base_uri": "https://localhost:8080/",
          "height": 160
        },
        "colab_type": "code",
        "id": "mUZRoDzZoW6j",
        "outputId": "fb513624-d48e-403d-da06-b73e7450e29b"
      },
      "outputs": [
        {
          "data": {
            "text/plain": [
              "array([[3.3009800e-01, 6.6151863e-01, 8.3833234e-03],\n",
              "       [9.2760829e-04, 5.2871302e-02, 9.4620109e-01],\n",
              "       [5.4690164e-01, 4.4285664e-01, 1.0241642e-02],\n",
              "       ...,\n",
              "       [4.7623505e-10, 2.7513825e-05, 9.9997246e-01],\n",
              "       [1.0135134e-01, 5.7145673e-01, 3.2719189e-01],\n",
              "       [9.3800962e-01, 5.5159871e-02, 6.8304739e-03]], dtype=float32)"
            ]
          },
          "execution_count": 21,
          "metadata": {
            "tags": []
          },
          "output_type": "execute_result"
        }
      ],
      "source": [
        "predictions"
      ]
    },
    {
      "cell_type": "code",
      "execution_count": 22,
      "metadata": {
        "colab": {
          "base_uri": "https://localhost:8080/",
          "height": 389
        },
        "colab_type": "code",
        "id": "eTPro6XVoW6l",
        "outputId": "d320a029-cc25-4e1f-ffbd-ecf8474090d7"
      },
      "outputs": [
        {
          "data": {
            "text/plain": [
              "array([[0., 1., 0.],\n",
              "       [0., 0., 1.],\n",
              "       [1., 0., 0.],\n",
              "       [0., 0., 1.],\n",
              "       [0., 1., 0.],\n",
              "       [0., 0., 1.],\n",
              "       [0., 0., 1.],\n",
              "       [0., 0., 1.],\n",
              "       [0., 0., 1.],\n",
              "       [0., 1., 0.],\n",
              "       [0., 1., 0.],\n",
              "       [1., 0., 0.],\n",
              "       [1., 0., 0.],\n",
              "       [0., 1., 0.],\n",
              "       [1., 0., 0.],\n",
              "       [0., 0., 1.],\n",
              "       [1., 0., 0.],\n",
              "       [0., 0., 1.],\n",
              "       [0., 1., 0.],\n",
              "       [0., 0., 1.]], dtype=float32)"
            ]
          },
          "execution_count": 22,
          "metadata": {
            "tags": []
          },
          "output_type": "execute_result"
        }
      ],
      "source": [
        "rounded_predictions=np.round(predictions)\n",
        "indices = np.argmax(predictions,1)\n",
        "for row, index in zip(rounded_predictions, indices): row[index]=1\n",
        "rounded_predictions[:20]"
      ]
    },
    {
      "cell_type": "code",
      "execution_count": 23,
      "metadata": {
        "colab": {
          "base_uri": "https://localhost:8080/",
          "height": 389
        },
        "colab_type": "code",
        "id": "IHwnS2vBoW6m",
        "outputId": "6ab7b587-e848-4f97-f0de-3870ec741903"
      },
      "outputs": [
        {
          "data": {
            "text/plain": [
              "array([[1., 0., 0.],\n",
              "       [0., 0., 1.],\n",
              "       [1., 0., 0.],\n",
              "       [0., 1., 0.],\n",
              "       [0., 1., 0.],\n",
              "       [0., 1., 0.],\n",
              "       [0., 0., 1.],\n",
              "       [0., 0., 1.],\n",
              "       [0., 0., 1.],\n",
              "       [0., 1., 0.],\n",
              "       [0., 1., 0.],\n",
              "       [0., 1., 0.],\n",
              "       [1., 0., 0.],\n",
              "       [0., 0., 1.],\n",
              "       [1., 0., 0.],\n",
              "       [0., 0., 1.],\n",
              "       [1., 0., 0.],\n",
              "       [0., 0., 1.],\n",
              "       [0., 1., 0.],\n",
              "       [0., 0., 1.]])"
            ]
          },
          "execution_count": 23,
          "metadata": {
            "tags": []
          },
          "output_type": "execute_result"
        }
      ],
      "source": [
        "t_dev[:20]"
      ]
    },
    {
      "cell_type": "code",
      "execution_count": 24,
      "metadata": {
        "colab": {
          "base_uri": "https://localhost:8080/",
          "height": 90
        },
        "colab_type": "code",
        "id": "zQqk-LsnoW6o",
        "outputId": "3f80d43e-0efc-4431-ac41-336079763798"
      },
      "outputs": [
        {
          "data": {
            "text/plain": [
              "array([False,  True,  True, False,  True, False,  True,  True,  True,\n",
              "        True,  True, False,  True, False,  True,  True,  True,  True,\n",
              "        True,  True])"
            ]
          },
          "execution_count": 24,
          "metadata": {
            "tags": []
          },
          "output_type": "execute_result"
        }
      ],
      "source": [
        "final_correct_preditions[:20]"
      ]
    },
    {
      "cell_type": "code",
      "execution_count": 25,
      "metadata": {
        "colab": {
          "base_uri": "https://localhost:8080/",
          "height": 55
        },
        "colab_type": "code",
        "id": "iiIHjvnP8LSU",
        "outputId": "4f93f839-a578-4791-e5ff-1d6fa57da531"
      },
      "outputs": [
        {
          "data": {
            "text/plain": [
              "Counter({False: 505, True: 1538})"
            ]
          },
          "execution_count": 25,
          "metadata": {
            "tags": []
          },
          "output_type": "execute_result"
        }
      ],
      "source": [
        "from collections import Counter\n",
        "Counter (final_correct_preditions)"
      ]
    },
    {
      "cell_type": "code",
      "execution_count": 26,
      "metadata": {
        "colab": {
          "base_uri": "https://localhost:8080/",
          "height": 55
        },
        "colab_type": "code",
        "id": "Rza7Ul6roW6q",
        "outputId": "70089c42-d54b-40bf-a333-e36a5984d0ff"
      },
      "outputs": [
        {
          "data": {
            "text/plain": [
              "0.5523686"
            ]
          },
          "execution_count": 26,
          "metadata": {
            "tags": []
          },
          "output_type": "execute_result"
        }
      ],
      "source": [
        "final_train_mean_log_loss"
      ]
    },
    {
      "cell_type": "code",
      "execution_count": 27,
      "metadata": {
        "colab": {
          "base_uri": "https://localhost:8080/",
          "height": 55
        },
        "colab_type": "code",
        "id": "hnNmkxauoW6r",
        "outputId": "2b4a1c36-2ce0-4a16-f770-ebd20c9b29f4"
      },
      "outputs": [
        {
          "data": {
            "text/plain": [
              "0.55274105"
            ]
          },
          "execution_count": 27,
          "metadata": {
            "tags": []
          },
          "output_type": "execute_result"
        }
      ],
      "source": [
        "final_dev_mean_log_loss"
      ]
    },
    {
      "cell_type": "markdown",
      "metadata": {
        "colab_type": "text",
        "id": "ZExDz1YFoW6t"
      },
      "source": [
        "**Train accuracy is now 76% and dev accuracy has raised to 75%**.  This means that the neural model is not overfitted. Time spent is about 2:30 minutes. Mini-batch gradient descent has been applied. Back propagation makes intensive vectorial computation. TPU has been employed. "
      ]
    }
  ],
  "metadata": {
    "accelerator": "TPU",
    "colab": {
      "collapsed_sections": [],
      "name": "4.Median House Value. One Hidden Layer.ipynb",
      "provenance": []
    },
    "kernelspec": {
      "display_name": "Python 3",
      "name": "python3"
    },
    "language_info": {
      "codemirror_mode": {
        "name": "ipython",
        "version": 3
      },
      "file_extension": ".py",
      "mimetype": "text/x-python",
      "name": "python",
      "nbconvert_exporter": "python",
      "pygments_lexer": "ipython3",
      "version": "3.9.6"
    }
  },
  "nbformat": 4,
  "nbformat_minor": 0
}
