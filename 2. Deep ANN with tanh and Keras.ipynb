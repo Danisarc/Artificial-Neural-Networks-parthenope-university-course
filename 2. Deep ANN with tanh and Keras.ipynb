{
  "cells": [
    {
      "cell_type": "markdown",
      "metadata": {
        "colab_type": "text",
        "id": "x0uJW5xqqqlm"
      },
      "source": [
        "### Solving Median House Value classification problem implementing a **deep neural network with tanh** and tf.Keras\n",
        "This experiment shows that a feed-forward deep artificial neural network (at least three hidden layers) with enough hidden neurons, and activation functions that saturate (*tanh*) does not train properly. Any neuron in the third hidden layer receives 10,000 inputs from the previous layer. Therefore, the *net* likely gets very high (in absolute value). The derivative of the *tanh* for a high *net* is close to zero, which makes delta and weights update also close to zero. Going back to the previous layer, there is nothing left to update the weights since the learning algorithm multiplies the derivative of the *tanh* for a high *net* (nearly zero) by the delta values previously calculated, also close to zero. As the algorithm approaches lower layers, the gradient error gets diluted even more, not updating at all their weights. This effect results in small changes in the weigts at the top layers and no changes at all near the input. Different layers learn at different speeds so the final trained neural network converges to a poor local optimum.     \n"
      ]
    },
    {
      "cell_type": "code",
      "execution_count": null,
      "metadata": {},
      "outputs": [],
      "source": [
        "# Tensorflow and tf.keras\n",
        "import tensorflow as tf\n",
        "from tensorflow import keras\n",
        "\n",
        "#Helper libraries\n",
        "import numpy as np\n",
        "import pandas as pd\n",
        "import matplotlib.pyplot as plt\n",
        "from tqdm import tqdm\n",
        "\n",
        "# Google file system\n",
        "from google.colab import drive\n",
        "drive.mount('/gdrive', force_remount=True)"
      ]
    },
    {
      "cell_type": "code",
      "execution_count": null,
      "metadata": {
        "colab": {
          "base_uri": "https://localhost:8080/",
          "height": 108
        },
        "colab_type": "code",
        "id": "-SAQX4N2qqls",
        "outputId": "1fbf5f6e-7939-46d6-ff63-fc58b670584c"
      },
      "outputs": [
        {
          "name": "stdout",
          "output_type": "stream",
          "text": [
            "x_train: (16342, 9)\n",
            "t_train: (16342, 3)\n",
            "x_dev: (2043, 9)\n",
            "t_dev: (2043, 3)\n"
          ]
        }
      ],
      "source": [
        "ATT_FILE = \"/gdrive/My Drive/Colab Notebooks/datasets/Housing/MedianHouseValue/MedianHouseValuePreparedCleanAttributes.csv\"\n",
        "LABEL_FILE = \"/gdrive/My Drive/Colab Notebooks/datasets/Housing/MedianHouseValue/MedianHouseValueOneHotEncodedClasses.csv\"\n",
        "\n",
        "TRAIN_RATE=0.8\n",
        "\n",
        "attributes = pd.read_csv(ATT_FILE)\n",
        "label = pd.read_csv(LABEL_FILE)\n",
        "\n",
        "n_instances = attributes.shape[0]\n",
        "n_train = int(n_instances*TRAIN_RATE)\n",
        "n_dev = int((n_instances-n_train)/2)\n",
        "\n",
        "x_train = attributes.values[:n_train]\n",
        "t_train = label.values[:n_train]\n",
        "\n",
        "x_dev = attributes.values[n_train:n_train+n_dev]\n",
        "t_dev = label.values[n_train:n_train+n_dev]\n",
        "\n",
        "print (\"x_train:\",x_train.shape)\n",
        "print (\"t_train:\",t_train.shape)\n",
        "\n",
        "print (\"x_dev:\",x_dev.shape)\n",
        "print (\"t_dev:\",t_dev.shape)"
      ]
    },
    {
      "cell_type": "markdown",
      "metadata": {
        "colab_type": "text",
        "id": "dawlzBekqql1"
      },
      "source": [
        "## Initialization"
      ]
    },
    {
      "cell_type": "code",
      "execution_count": null,
      "metadata": {
        "colab": {},
        "colab_type": "code",
        "id": "kdnGXfsNqql2"
      },
      "outputs": [],
      "source": [
        "INPUTS = x_train.shape[1]\n",
        "OUTPUTS = t_train.shape[1]\n",
        "NUM_TRAINING_EXAMPLES = int(round(x_train.shape[0]/1))\n",
        "NUM_DEV_EXAMPLES = int (round (x_dev.shape[0]/1))"
      ]
    },
    {
      "cell_type": "markdown",
      "metadata": {
        "colab_type": "text",
        "id": "_Vg7Bfaqqql5"
      },
      "source": [
        "Some data is displayed to test correctness:"
      ]
    },
    {
      "cell_type": "code",
      "execution_count": null,
      "metadata": {
        "colab": {
          "base_uri": "https://localhost:8080/",
          "height": 213
        },
        "colab_type": "code",
        "id": "7iy9Yc1mqqmE",
        "outputId": "8c6bd9e0-abbc-484e-dbe0-6ac823621155"
      },
      "outputs": [
        {
          "data": {
            "text/plain": [
              "array([[ 0.21713147, -0.69394261,  0.41176471, -0.93926446, -0.88733706,\n",
              "        -0.90924634, -0.89278079, -0.77585137, -1.        ],\n",
              "       [-0.69322709,  0.17747078, -0.29411765, -0.91795107, -0.88671633,\n",
              "        -0.95448303, -0.88949186, -0.59159184,  1.        ],\n",
              "       [ 0.44820717, -0.95961743,  0.37254902, -0.8306628 , -0.80074488,\n",
              "        -0.89349477, -0.79575728, -0.5589716 ,  1.        ],\n",
              "       [ 0.29083665, -0.7088204 , -0.41176471, -0.87629076, -0.85909373,\n",
              "        -0.94315984, -0.84377569, -0.48705535, -1.        ],\n",
              "       [-0.40039841,  0.15834219, -0.49019608, -0.8418536 , -0.84574798,\n",
              "        -0.93413493, -0.82765992, -0.16468738, -0.33333333]])"
            ]
          },
          "execution_count": 4,
          "metadata": {
            "tags": []
          },
          "output_type": "execute_result"
        }
      ],
      "source": [
        "x_train[:5]"
      ]
    },
    {
      "cell_type": "code",
      "execution_count": null,
      "metadata": {
        "colab": {
          "base_uri": "https://localhost:8080/",
          "height": 213
        },
        "colab_type": "code",
        "id": "DmdArrI0qqmG",
        "outputId": "213f9f59-d6c4-4335-f1c6-37dee0cd78ab"
      },
      "outputs": [
        {
          "data": {
            "text/plain": [
              "array([[1., 0., 0.],\n",
              "       [0., 0., 1.],\n",
              "       [1., 0., 0.],\n",
              "       [0., 1., 0.],\n",
              "       [0., 0., 1.],\n",
              "       [1., 0., 0.],\n",
              "       [1., 0., 0.],\n",
              "       [0., 0., 1.],\n",
              "       [0., 0., 1.],\n",
              "       [0., 0., 1.]])"
            ]
          },
          "execution_count": 5,
          "metadata": {
            "tags": []
          },
          "output_type": "execute_result"
        }
      ],
      "source": [
        "t_train[:10]"
      ]
    },
    {
      "cell_type": "code",
      "execution_count": null,
      "metadata": {
        "colab": {
          "base_uri": "https://localhost:8080/",
          "height": 213
        },
        "colab_type": "code",
        "id": "dJEJkVdpqqmH",
        "outputId": "1d47e579-9ecc-44f6-c702-7344c821a365"
      },
      "outputs": [
        {
          "data": {
            "text/plain": [
              "array([[ 0.22908367, -0.67906482,  0.45098039, -0.83366397, -0.77343265,\n",
              "        -0.81524146, -0.76155238, -0.67868029, -1.        ],\n",
              "       [-0.61752988,  0.10308183,  1.        , -0.94201129, -0.93078833,\n",
              "        -0.97247681, -0.93257688, -0.37100178,  0.33333333],\n",
              "       [-0.39043825,  0.16046759, -0.88235294, -0.92929447, -0.90037244,\n",
              "        -0.90016536, -0.89870087, -0.74136908, -0.33333333],\n",
              "       [-0.24701195, -0.45377258, -0.33333333, -0.85156926, -0.82774674,\n",
              "        -0.94030102, -0.81877981, -0.58286093, -1.        ],\n",
              "       [ 0.22908367, -0.73645058, -0.25490196, -0.90589552, -0.82774674,\n",
              "        -0.90420135, -0.81746423, -0.86805699,  1.        ]])"
            ]
          },
          "execution_count": 6,
          "metadata": {
            "tags": []
          },
          "output_type": "execute_result"
        }
      ],
      "source": [
        "x_dev[:5]"
      ]
    },
    {
      "cell_type": "code",
      "execution_count": null,
      "metadata": {
        "colab": {
          "base_uri": "https://localhost:8080/",
          "height": 125
        },
        "colab_type": "code",
        "id": "DTfWBp2aqqmJ",
        "outputId": "72405cf9-bd26-4b2a-cdc0-ae724c3038f3"
      },
      "outputs": [
        {
          "data": {
            "text/plain": [
              "array([[1., 0., 0.],\n",
              "       [0., 0., 1.],\n",
              "       [1., 0., 0.],\n",
              "       [0., 1., 0.],\n",
              "       [0., 1., 0.]])"
            ]
          },
          "execution_count": 7,
          "metadata": {
            "tags": []
          },
          "output_type": "execute_result"
        }
      ],
      "source": [
        "t_dev[:5]"
      ]
    },
    {
      "cell_type": "markdown",
      "metadata": {
        "colab_type": "text",
        "id": "zzdGAahIqqmL"
      },
      "source": [
        "## Hyperparameters"
      ]
    },
    {
      "cell_type": "markdown",
      "metadata": {
        "colab_type": "text",
        "id": "bk2y7RR0qqmL"
      },
      "source": [
        "The number of hidden layers and neurons per layer must be adjusted. In this example, we try to increase the computational power of the neural network by adding up to three hidden layers (to be deep) and more neurons per layer. "
      ]
    },
    {
      "cell_type": "code",
      "execution_count": null,
      "metadata": {
        "colab": {},
        "colab_type": "code",
        "id": "9llGmGvkqqmM"
      },
      "outputs": [],
      "source": [
        "n_epochs = 600 # corresponding to about 20,000 iterations\n",
        "learning_rate = 0.1\n",
        "batch_size = 500\n",
        "n_neurons_per_hlayer = [10000,10000, 10000] "
      ]
    },
    {
      "cell_type": "markdown",
      "metadata": {
        "colab_type": "text",
        "id": "Dl-AsL42qqmN"
      },
      "source": [
        "## Build the deep neural model"
      ]
    },
    {
      "cell_type": "markdown",
      "metadata": {
        "colab_type": "text",
        "id": "ekeUf4K3H8TQ"
      },
      "source": [
        "First of all, a sequential model is created. This is the one of Keras models, for full-connected feedforward neural networks, in which layers are sequentially connected. This is called the *sequential* API."
      ]
    },
    {
      "cell_type": "code",
      "execution_count": null,
      "metadata": {
        "colab": {},
        "colab_type": "code",
        "id": "qOVJ3QSyImxj"
      },
      "outputs": [],
      "source": [
        "model = keras.Sequential(name=\"Feedforward NN\")"
      ]
    },
    {
      "cell_type": "markdown",
      "metadata": {
        "colab_type": "text",
        "id": "_YoyNRtuLubc"
      },
      "source": [
        "Define the deep neural network topology. Note that the **tanh** activation function is chosen for the hidden layers and  **softmax** for the ouput layer. **We expect that the neural network does not train properly since we are employing an activation function that saturates at its tails**. \n",
        "\n",
        "Adding layers to the model. The model takes as input matrix tensors with *INPUTS* columns and any number of rows. *InputLayer* creates a placeholder where the data is ready to feed the network. Then the hidden layers with *tanh* activation function are created. Finally, the output layer with the *softmax* activation function is added. "
      ]
    },
    {
      "cell_type": "code",
      "execution_count": null,
      "metadata": {
        "colab": {
          "base_uri": "https://localhost:8080/",
          "height": 372
        },
        "colab_type": "code",
        "id": "_HC6q86_IzO7",
        "outputId": "545bf238-97ec-4028-8c49-a5e396782cbc"
      },
      "outputs": [
        {
          "name": "stdout",
          "output_type": "stream",
          "text": [
            "WARNING:tensorflow:From /usr/local/lib/python3.6/dist-packages/tensorflow_core/python/ops/resource_variable_ops.py:1630: calling BaseResourceVariable.__init__ (from tensorflow.python.ops.resource_variable_ops) with constraint is deprecated and will be removed in a future version.\n",
            "Instructions for updating:\n",
            "If using Keras pass *_constraint arguments to layers.\n",
            "Model: \"Feedforward NN\"\n",
            "_________________________________________________________________\n",
            "Layer (type)                 Output Shape              Param #   \n",
            "=================================================================\n",
            "dense (Dense)                (None, 10000)             100000    \n",
            "_________________________________________________________________\n",
            "dense_1 (Dense)              (None, 10000)             100010000 \n",
            "_________________________________________________________________\n",
            "dense_2 (Dense)              (None, 10000)             100010000 \n",
            "_________________________________________________________________\n",
            "dense_3 (Dense)              (None, 3)                 30003     \n",
            "=================================================================\n",
            "Total params: 200,150,003\n",
            "Trainable params: 200,150,003\n",
            "Non-trainable params: 0\n",
            "_________________________________________________________________\n"
          ]
        }
      ],
      "source": [
        "model.add(keras.layers.InputLayer(input_shape=(INPUTS,), batch_size=None))\n",
        "\n",
        "for neurons in n_neurons_per_hlayer:\n",
        "  model.add(keras.layers.Dense(neurons, activation=\"tanh\"))\n",
        "\n",
        "model.add(keras.layers.Dense(OUTPUTS, activation=\"softmax\"))\n",
        "model.summary()"
      ]
    },
    {
      "cell_type": "markdown",
      "metadata": {
        "colab_type": "text",
        "id": "UHB1vBGXRmRe"
      },
      "source": [
        "Two hundred million parameters to adjust. For example, the kernel in the last layer comprises 30,003 parameters: 10,000 neurons in the previous layer by 3 neurons in the output layer plus the three biases, one for each output neuron. \n",
        "\n",
        "This experiment could not be conducted some time ago due to a lack of computational resources. The difficulties in training deep neural networks could only be devised from mathematical analysis.   "
      ]
    },
    {
      "cell_type": "code",
      "execution_count": null,
      "metadata": {
        "colab": {
          "base_uri": "https://localhost:8080/",
          "height": 108
        },
        "colab_type": "code",
        "id": "yf9kooY8RLmO",
        "outputId": "5f3ff494-a5ad-443c-98ed-5f89b5f6b438"
      },
      "outputs": [
        {
          "data": {
            "text/plain": [
              "[<tensorflow.python.keras.layers.core.Dense at 0x7ffa12293278>,\n",
              " <tensorflow.python.keras.layers.core.Dense at 0x7ffa12293710>,\n",
              " <tensorflow.python.keras.layers.core.Dense at 0x7ffa11a42fd0>,\n",
              " <tensorflow.python.keras.layers.core.Dense at 0x7ffa122e61d0>]"
            ]
          },
          "execution_count": 11,
          "metadata": {
            "tags": []
          },
          "output_type": "execute_result"
        }
      ],
      "source": [
        "model.layers"
      ]
    },
    {
      "cell_type": "code",
      "execution_count": null,
      "metadata": {
        "colab": {
          "base_uri": "https://localhost:8080/",
          "height": 108
        },
        "colab_type": "code",
        "id": "md6YxH5iRTPj",
        "outputId": "12165717-d4bb-44b7-f9e7-b3d0bba56c03"
      },
      "outputs": [
        {
          "name": "stdout",
          "output_type": "stream",
          "text": [
            "dense\n",
            "dense_1\n",
            "dense_2\n",
            "dense_3\n"
          ]
        }
      ],
      "source": [
        "for l in model.layers: print (l.name)"
      ]
    },
    {
      "cell_type": "markdown",
      "metadata": {
        "colab_type": "text",
        "id": "U0gULZpfScnW"
      },
      "source": [
        "All the parameters of a layer can bee accessed:"
      ]
    },
    {
      "cell_type": "code",
      "execution_count": null,
      "metadata": {
        "colab": {
          "base_uri": "https://localhost:8080/",
          "height": 55
        },
        "colab_type": "code",
        "id": "LzorJMMJSg1d",
        "outputId": "845982af-0ba4-40d2-df4c-2171ebd270d9"
      },
      "outputs": [
        {
          "data": {
            "text/plain": [
              "(9, 10000)"
            ]
          },
          "execution_count": 13,
          "metadata": {
            "tags": []
          },
          "output_type": "execute_result"
        }
      ],
      "source": [
        "weights, biases = model.layers[0].get_weights()\n",
        "weights.shape"
      ]
    },
    {
      "cell_type": "code",
      "execution_count": null,
      "metadata": {
        "colab": {
          "base_uri": "https://localhost:8080/",
          "height": 55
        },
        "colab_type": "code",
        "id": "nG-cVDSiTHJl",
        "outputId": "13a58132-80d0-470f-a2b7-eb5bb242c558"
      },
      "outputs": [
        {
          "data": {
            "text/plain": [
              "array([0., 0., 0., ..., 0., 0., 0.], dtype=float32)"
            ]
          },
          "execution_count": 14,
          "metadata": {
            "tags": []
          },
          "output_type": "execute_result"
        }
      ],
      "source": [
        "biases"
      ]
    },
    {
      "cell_type": "code",
      "execution_count": null,
      "metadata": {
        "colab": {
          "base_uri": "https://localhost:8080/",
          "height": 55
        },
        "colab_type": "code",
        "id": "7gu0SkqLTP6l",
        "outputId": "57b70e72-468f-4b9c-a87d-b0e167ac2f60"
      },
      "outputs": [
        {
          "data": {
            "text/plain": [
              "(10000,)"
            ]
          },
          "execution_count": 15,
          "metadata": {
            "tags": []
          },
          "output_type": "execute_result"
        }
      ],
      "source": [
        "biases.shape"
      ]
    },
    {
      "cell_type": "markdown",
      "metadata": {
        "colab_type": "text",
        "id": "zeHjWFsrTg1j"
      },
      "source": [
        "# Compiling the model"
      ]
    },
    {
      "cell_type": "markdown",
      "metadata": {
        "colab_type": "text",
        "id": "b2nH4ki3TlqB"
      },
      "source": [
        "Compiling the model means specifying the *loss* function (the $log-loss$,  $cross-entropy$, the sum of log-loss is a loss) and the *optimizer* (Gradient Descent) to use. Optionally, you can also specify a list of extra *metrics* (Accuracy) to compute during training and evaluation. In this case, "
      ]
    },
    {
      "cell_type": "code",
      "execution_count": null,
      "metadata": {
        "colab": {},
        "colab_type": "code",
        "id": "XisSOCL1UDh8"
      },
      "outputs": [],
      "source": [
        "model.compile(loss=tf.keras.losses.categorical_crossentropy,\n",
        "              optimizer=tf.keras.optimizers.SGD(lr=learning_rate),\n",
        "              metrics=[\"categorical_accuracy\"])\n"
      ]
    },
    {
      "cell_type": "markdown",
      "metadata": {
        "colab_type": "text",
        "id": "aeM5hW8qUXgC"
      },
      "source": [
        "There are several losses functions, optimizers and metrics. Full lists are available at: https://keras.io/losses/, https://keras.io/optimizers/ and https://keras.io/metrics/.\n"
      ]
    },
    {
      "cell_type": "markdown",
      "metadata": {
        "colab_type": "text",
        "id": "oQZsDnk8bCa8"
      },
      "source": [
        "## Training and validating the model with M-BGD"
      ]
    },
    {
      "cell_type": "markdown",
      "metadata": {
        "colab_type": "text",
        "id": "Qxora106dX1a"
      },
      "source": [
        "Note that an **epoch** is an iteration over the entire training dataset provided."
      ]
    },
    {
      "cell_type": "code",
      "execution_count": null,
      "metadata": {
        "colab": {
          "base_uri": "https://localhost:8080/",
          "height": 1000
        },
        "colab_type": "code",
        "id": "7xiouC6pbG0m",
        "outputId": "6a6fe1c0-2f8a-4930-b955-64e9e2b5a7e4"
      },
      "outputs": [
        {
          "name": "stdout",
          "output_type": "stream",
          "text": [
            "Train on 16342 samples, validate on 2043 samples\n",
            "Epoch 1/600\n",
            "16342/16342 [==============================] - 12s 741us/sample - loss: 0.9901 - categorical_accuracy: 0.5269 - val_loss: 1.1185 - val_categorical_accuracy: 0.3671\n",
            "Epoch 2/600\n",
            "16342/16342 [==============================] - 11s 700us/sample - loss: 0.8802 - categorical_accuracy: 0.5799 - val_loss: 0.7695 - val_categorical_accuracy: 0.6559\n",
            "Epoch 3/600\n",
            "16342/16342 [==============================] - 11s 701us/sample - loss: 0.8265 - categorical_accuracy: 0.6015 - val_loss: 0.8274 - val_categorical_accuracy: 0.5952\n",
            "Epoch 4/600\n",
            "16342/16342 [==============================] - 12s 706us/sample - loss: 0.8156 - categorical_accuracy: 0.6102 - val_loss: 0.7248 - val_categorical_accuracy: 0.6735\n",
            "Epoch 5/600\n",
            "16342/16342 [==============================] - 11s 700us/sample - loss: 0.7693 - categorical_accuracy: 0.6425 - val_loss: 0.7251 - val_categorical_accuracy: 0.6691\n",
            "Epoch 6/600\n",
            "16342/16342 [==============================] - 12s 705us/sample - loss: 0.7470 - categorical_accuracy: 0.6559 - val_loss: 0.7042 - val_categorical_accuracy: 0.6853\n",
            "Epoch 7/600\n",
            "16342/16342 [==============================] - 11s 701us/sample - loss: 0.7317 - categorical_accuracy: 0.6646 - val_loss: 0.6636 - val_categorical_accuracy: 0.6907\n",
            "Epoch 8/600\n",
            "16342/16342 [==============================] - 11s 704us/sample - loss: 0.7437 - categorical_accuracy: 0.6565 - val_loss: 0.6829 - val_categorical_accuracy: 0.6848\n",
            "Epoch 9/600\n",
            "16342/16342 [==============================] - 11s 701us/sample - loss: 0.7018 - categorical_accuracy: 0.6802 - val_loss: 0.6623 - val_categorical_accuracy: 0.6887\n",
            "Epoch 10/600\n",
            "16342/16342 [==============================] - 11s 702us/sample - loss: 0.7184 - categorical_accuracy: 0.6718 - val_loss: 0.6575 - val_categorical_accuracy: 0.7073\n",
            "Epoch 11/600\n",
            "16342/16342 [==============================] - 11s 702us/sample - loss: 0.7170 - categorical_accuracy: 0.6743 - val_loss: 0.7031 - val_categorical_accuracy: 0.6735\n",
            "Epoch 12/600\n",
            "16342/16342 [==============================] - 11s 700us/sample - loss: 0.7116 - categorical_accuracy: 0.6794 - val_loss: 0.6530 - val_categorical_accuracy: 0.7024\n",
            "Epoch 13/600\n",
            "16342/16342 [==============================] - 11s 702us/sample - loss: 0.6969 - categorical_accuracy: 0.6888 - val_loss: 0.6559 - val_categorical_accuracy: 0.6975\n",
            "Epoch 14/600\n",
            "16342/16342 [==============================] - 11s 702us/sample - loss: 0.7170 - categorical_accuracy: 0.6724 - val_loss: 0.6898 - val_categorical_accuracy: 0.6823\n",
            "Epoch 15/600\n",
            "16342/16342 [==============================] - 11s 699us/sample - loss: 0.6874 - categorical_accuracy: 0.6939 - val_loss: 0.6492 - val_categorical_accuracy: 0.7058\n",
            "Epoch 16/600\n",
            "16342/16342 [==============================] - 11s 702us/sample - loss: 0.6882 - categorical_accuracy: 0.6959 - val_loss: 0.6490 - val_categorical_accuracy: 0.7068\n",
            "Epoch 17/600\n",
            "16342/16342 [==============================] - 11s 701us/sample - loss: 0.7087 - categorical_accuracy: 0.6780 - val_loss: 0.6499 - val_categorical_accuracy: 0.7058\n",
            "Epoch 18/600\n",
            "16342/16342 [==============================] - 11s 700us/sample - loss: 0.6980 - categorical_accuracy: 0.6867 - val_loss: 0.6493 - val_categorical_accuracy: 0.7048\n",
            "Epoch 19/600\n",
            "16342/16342 [==============================] - 11s 700us/sample - loss: 0.6780 - categorical_accuracy: 0.6972 - val_loss: 0.6462 - val_categorical_accuracy: 0.7102\n",
            "Epoch 20/600\n",
            "16342/16342 [==============================] - 11s 702us/sample - loss: 0.6974 - categorical_accuracy: 0.6875 - val_loss: 0.6502 - val_categorical_accuracy: 0.7068\n",
            "Epoch 21/600\n",
            "16342/16342 [==============================] - 11s 701us/sample - loss: 0.6974 - categorical_accuracy: 0.6879 - val_loss: 0.6677 - val_categorical_accuracy: 0.6897\n",
            "Epoch 22/600\n",
            "16342/16342 [==============================] - 11s 700us/sample - loss: 0.6878 - categorical_accuracy: 0.6925 - val_loss: 0.6521 - val_categorical_accuracy: 0.7039\n",
            "Epoch 23/600\n",
            "16342/16342 [==============================] - 11s 702us/sample - loss: 0.6782 - categorical_accuracy: 0.6979 - val_loss: 0.6454 - val_categorical_accuracy: 0.7068\n",
            "Epoch 24/600\n",
            "16342/16342 [==============================] - 11s 700us/sample - loss: 0.6828 - categorical_accuracy: 0.6968 - val_loss: 0.6772 - val_categorical_accuracy: 0.6941\n",
            "Epoch 25/600\n",
            "16342/16342 [==============================] - 11s 702us/sample - loss: 0.6839 - categorical_accuracy: 0.6967 - val_loss: 0.6512 - val_categorical_accuracy: 0.7137\n",
            "Epoch 26/600\n",
            "16342/16342 [==============================] - 11s 702us/sample - loss: 0.6828 - categorical_accuracy: 0.6943 - val_loss: 0.6492 - val_categorical_accuracy: 0.7039\n",
            "Epoch 27/600\n",
            "16342/16342 [==============================] - 11s 701us/sample - loss: 0.6881 - categorical_accuracy: 0.6941 - val_loss: 0.6459 - val_categorical_accuracy: 0.7024\n",
            "Epoch 28/600\n",
            "16342/16342 [==============================] - 12s 704us/sample - loss: 0.6830 - categorical_accuracy: 0.6952 - val_loss: 0.6772 - val_categorical_accuracy: 0.6970\n",
            "Epoch 29/600\n",
            "16342/16342 [==============================] - 11s 701us/sample - loss: 0.6780 - categorical_accuracy: 0.6990 - val_loss: 0.6431 - val_categorical_accuracy: 0.7141\n",
            "Epoch 30/600\n",
            "16342/16342 [==============================] - 11s 699us/sample - loss: 0.6872 - categorical_accuracy: 0.6951 - val_loss: 0.6435 - val_categorical_accuracy: 0.7083\n",
            "Epoch 31/600\n",
            "16342/16342 [==============================] - 11s 698us/sample - loss: 0.6854 - categorical_accuracy: 0.6926 - val_loss: 0.6453 - val_categorical_accuracy: 0.7117\n",
            "Epoch 32/600\n",
            "16342/16342 [==============================] - 11s 700us/sample - loss: 0.6848 - categorical_accuracy: 0.6958 - val_loss: 0.6448 - val_categorical_accuracy: 0.7190\n",
            "Epoch 33/600\n",
            "16342/16342 [==============================] - 11s 702us/sample - loss: 0.6745 - categorical_accuracy: 0.7019 - val_loss: 0.6607 - val_categorical_accuracy: 0.6970\n",
            "Epoch 34/600\n",
            "16342/16342 [==============================] - 11s 700us/sample - loss: 0.6766 - categorical_accuracy: 0.6998 - val_loss: 0.6498 - val_categorical_accuracy: 0.7156\n",
            "Epoch 35/600\n",
            "16342/16342 [==============================] - 11s 701us/sample - loss: 0.6986 - categorical_accuracy: 0.6883 - val_loss: 0.6705 - val_categorical_accuracy: 0.6941\n",
            "Epoch 36/600\n",
            "16342/16342 [==============================] - 12s 706us/sample - loss: 0.6762 - categorical_accuracy: 0.7013 - val_loss: 0.6502 - val_categorical_accuracy: 0.7004\n",
            "Epoch 37/600\n",
            "16342/16342 [==============================] - 12s 705us/sample - loss: 0.6849 - categorical_accuracy: 0.6942 - val_loss: 0.6498 - val_categorical_accuracy: 0.7181\n",
            "Epoch 38/600\n",
            "16342/16342 [==============================] - 11s 702us/sample - loss: 0.6817 - categorical_accuracy: 0.6965 - val_loss: 0.6471 - val_categorical_accuracy: 0.7034\n",
            "Epoch 39/600\n",
            "16342/16342 [==============================] - 12s 706us/sample - loss: 0.6809 - categorical_accuracy: 0.6979 - val_loss: 0.6461 - val_categorical_accuracy: 0.7166\n",
            "Epoch 40/600\n",
            "16342/16342 [==============================] - 12s 706us/sample - loss: 0.6794 - categorical_accuracy: 0.6981 - val_loss: 0.6595 - val_categorical_accuracy: 0.7073\n",
            "Epoch 41/600\n",
            "16342/16342 [==============================] - 11s 703us/sample - loss: 0.6877 - categorical_accuracy: 0.6983 - val_loss: 0.6461 - val_categorical_accuracy: 0.7093\n",
            "Epoch 42/600\n",
            "16342/16342 [==============================] - 12s 705us/sample - loss: 0.6838 - categorical_accuracy: 0.6943 - val_loss: 0.6448 - val_categorical_accuracy: 0.7073\n",
            "Epoch 43/600\n",
            "16342/16342 [==============================] - 12s 706us/sample - loss: 0.6755 - categorical_accuracy: 0.7018 - val_loss: 0.6414 - val_categorical_accuracy: 0.7166\n",
            "Epoch 44/600\n",
            "16342/16342 [==============================] - 11s 703us/sample - loss: 0.6796 - categorical_accuracy: 0.6985 - val_loss: 0.6440 - val_categorical_accuracy: 0.7044\n",
            "Epoch 45/600\n",
            "16342/16342 [==============================] - 12s 705us/sample - loss: 0.6732 - categorical_accuracy: 0.7000 - val_loss: 0.6522 - val_categorical_accuracy: 0.7156\n",
            "Epoch 46/600\n",
            "16342/16342 [==============================] - 12s 706us/sample - loss: 0.6807 - categorical_accuracy: 0.7006 - val_loss: 0.6745 - val_categorical_accuracy: 0.6975\n",
            "Epoch 47/600\n",
            "16342/16342 [==============================] - 11s 701us/sample - loss: 0.6724 - categorical_accuracy: 0.7021 - val_loss: 0.6539 - val_categorical_accuracy: 0.7063\n",
            "Epoch 48/600\n",
            "16342/16342 [==============================] - 12s 704us/sample - loss: 0.6714 - categorical_accuracy: 0.7039 - val_loss: 0.6497 - val_categorical_accuracy: 0.7102\n",
            "Epoch 49/600\n",
            "16342/16342 [==============================] - 11s 700us/sample - loss: 0.6726 - categorical_accuracy: 0.7041 - val_loss: 0.6455 - val_categorical_accuracy: 0.7210\n",
            "Epoch 50/600\n",
            "16342/16342 [==============================] - 11s 699us/sample - loss: 0.6757 - categorical_accuracy: 0.6985 - val_loss: 0.6394 - val_categorical_accuracy: 0.7146\n",
            "Epoch 51/600\n",
            "16342/16342 [==============================] - 11s 703us/sample - loss: 0.6720 - categorical_accuracy: 0.7033 - val_loss: 0.6462 - val_categorical_accuracy: 0.7009\n",
            "Epoch 52/600\n",
            "16342/16342 [==============================] - 11s 700us/sample - loss: 0.6765 - categorical_accuracy: 0.7001 - val_loss: 0.6550 - val_categorical_accuracy: 0.6946\n",
            "Epoch 53/600\n",
            "16342/16342 [==============================] - 11s 698us/sample - loss: 0.6906 - categorical_accuracy: 0.6898 - val_loss: 0.7136 - val_categorical_accuracy: 0.6657\n",
            "Epoch 54/600\n",
            "16342/16342 [==============================] - 11s 697us/sample - loss: 0.6741 - categorical_accuracy: 0.7026 - val_loss: 0.6386 - val_categorical_accuracy: 0.7146\n",
            "Epoch 55/600\n",
            "16342/16342 [==============================] - 11s 697us/sample - loss: 0.6723 - categorical_accuracy: 0.7046 - val_loss: 0.6393 - val_categorical_accuracy: 0.7137\n",
            "Epoch 56/600\n",
            "16342/16342 [==============================] - 11s 700us/sample - loss: 0.6736 - categorical_accuracy: 0.7040 - val_loss: 0.6370 - val_categorical_accuracy: 0.7156\n",
            "Epoch 57/600\n",
            "16342/16342 [==============================] - 11s 703us/sample - loss: 0.6771 - categorical_accuracy: 0.6978 - val_loss: 0.6515 - val_categorical_accuracy: 0.7141\n",
            "Epoch 58/600\n",
            "16342/16342 [==============================] - 11s 701us/sample - loss: 0.6661 - categorical_accuracy: 0.7081 - val_loss: 0.6393 - val_categorical_accuracy: 0.7117\n",
            "Epoch 59/600\n",
            "16342/16342 [==============================] - 11s 700us/sample - loss: 0.6813 - categorical_accuracy: 0.7002 - val_loss: 0.7026 - val_categorical_accuracy: 0.6818\n",
            "Epoch 60/600\n",
            "16342/16342 [==============================] - 11s 698us/sample - loss: 0.6743 - categorical_accuracy: 0.7018 - val_loss: 0.6858 - val_categorical_accuracy: 0.6853\n",
            "Epoch 61/600\n",
            "16342/16342 [==============================] - 11s 698us/sample - loss: 0.6723 - categorical_accuracy: 0.7070 - val_loss: 0.6647 - val_categorical_accuracy: 0.6882\n",
            "Epoch 62/600\n",
            "16342/16342 [==============================] - 11s 697us/sample - loss: 0.6756 - categorical_accuracy: 0.7005 - val_loss: 0.6402 - val_categorical_accuracy: 0.7088\n",
            "Epoch 63/600\n",
            "16342/16342 [==============================] - 11s 698us/sample - loss: 0.6692 - categorical_accuracy: 0.7043 - val_loss: 0.7241 - val_categorical_accuracy: 0.6667\n",
            "Epoch 64/600\n",
            "16342/16342 [==============================] - 11s 698us/sample - loss: 0.6794 - categorical_accuracy: 0.6994 - val_loss: 0.6939 - val_categorical_accuracy: 0.6769\n",
            "Epoch 65/600\n",
            "16342/16342 [==============================] - 11s 701us/sample - loss: 0.6669 - categorical_accuracy: 0.7060 - val_loss: 0.6366 - val_categorical_accuracy: 0.7210\n",
            "Epoch 66/600\n",
            "16342/16342 [==============================] - 11s 701us/sample - loss: 0.6654 - categorical_accuracy: 0.7081 - val_loss: 0.6393 - val_categorical_accuracy: 0.7088\n",
            "Epoch 67/600\n",
            "16342/16342 [==============================] - 11s 698us/sample - loss: 0.6828 - categorical_accuracy: 0.6975 - val_loss: 0.6397 - val_categorical_accuracy: 0.7205\n",
            "Epoch 68/600\n",
            "16342/16342 [==============================] - 11s 699us/sample - loss: 0.6710 - categorical_accuracy: 0.7043 - val_loss: 0.6694 - val_categorical_accuracy: 0.6887\n",
            "Epoch 69/600\n",
            "16342/16342 [==============================] - 11s 699us/sample - loss: 0.6697 - categorical_accuracy: 0.7019 - val_loss: 0.6357 - val_categorical_accuracy: 0.7215\n",
            "Epoch 70/600\n",
            "16342/16342 [==============================] - 11s 700us/sample - loss: 0.6688 - categorical_accuracy: 0.7051 - val_loss: 0.6377 - val_categorical_accuracy: 0.7230\n",
            "Epoch 71/600\n",
            "16342/16342 [==============================] - 11s 702us/sample - loss: 0.6662 - categorical_accuracy: 0.7085 - val_loss: 0.6565 - val_categorical_accuracy: 0.7063\n",
            "Epoch 72/600\n",
            "16342/16342 [==============================] - 11s 700us/sample - loss: 0.6767 - categorical_accuracy: 0.7051 - val_loss: 0.6453 - val_categorical_accuracy: 0.7073\n",
            "Epoch 73/600\n",
            "16342/16342 [==============================] - 11s 698us/sample - loss: 0.6722 - categorical_accuracy: 0.7022 - val_loss: 0.6449 - val_categorical_accuracy: 0.7083\n",
            "Epoch 74/600\n",
            "16342/16342 [==============================] - 11s 698us/sample - loss: 0.6671 - categorical_accuracy: 0.7084 - val_loss: 0.6540 - val_categorical_accuracy: 0.7019\n",
            "Epoch 75/600\n",
            "16342/16342 [==============================] - 11s 700us/sample - loss: 0.6687 - categorical_accuracy: 0.7033 - val_loss: 0.6344 - val_categorical_accuracy: 0.7151\n",
            "Epoch 76/600\n",
            "16342/16342 [==============================] - 11s 701us/sample - loss: 0.6788 - categorical_accuracy: 0.6977 - val_loss: 0.6546 - val_categorical_accuracy: 0.7107\n",
            "Epoch 77/600\n",
            "16342/16342 [==============================] - 11s 701us/sample - loss: 0.6696 - categorical_accuracy: 0.7047 - val_loss: 0.6343 - val_categorical_accuracy: 0.7186\n",
            "Epoch 78/600\n",
            "16342/16342 [==============================] - 11s 698us/sample - loss: 0.6763 - categorical_accuracy: 0.7013 - val_loss: 0.6417 - val_categorical_accuracy: 0.7083\n",
            "Epoch 79/600\n",
            "16342/16342 [==============================] - 11s 698us/sample - loss: 0.6658 - categorical_accuracy: 0.7063 - val_loss: 0.6435 - val_categorical_accuracy: 0.7176\n",
            "Epoch 80/600\n",
            "16342/16342 [==============================] - 11s 697us/sample - loss: 0.6827 - categorical_accuracy: 0.6956 - val_loss: 0.6420 - val_categorical_accuracy: 0.7068\n",
            "Epoch 81/600\n",
            "16342/16342 [==============================] - 11s 699us/sample - loss: 0.6735 - categorical_accuracy: 0.7036 - val_loss: 0.6598 - val_categorical_accuracy: 0.7146\n",
            "Epoch 82/600\n",
            "16342/16342 [==============================] - 11s 699us/sample - loss: 0.6736 - categorical_accuracy: 0.7040 - val_loss: 0.6483 - val_categorical_accuracy: 0.7044\n",
            "Epoch 83/600\n",
            "16342/16342 [==============================] - 11s 697us/sample - loss: 0.6684 - categorical_accuracy: 0.7039 - val_loss: 0.6468 - val_categorical_accuracy: 0.7073\n",
            "Epoch 84/600\n",
            "16342/16342 [==============================] - 11s 698us/sample - loss: 0.6698 - categorical_accuracy: 0.7070 - val_loss: 0.6479 - val_categorical_accuracy: 0.7166\n",
            "Epoch 85/600\n",
            "16342/16342 [==============================] - 11s 698us/sample - loss: 0.6675 - categorical_accuracy: 0.7062 - val_loss: 0.6347 - val_categorical_accuracy: 0.7186\n",
            "Epoch 86/600\n",
            "16342/16342 [==============================] - 11s 699us/sample - loss: 0.6729 - categorical_accuracy: 0.7027 - val_loss: 0.6391 - val_categorical_accuracy: 0.7127\n",
            "Epoch 87/600\n",
            "16342/16342 [==============================] - 11s 698us/sample - loss: 0.6664 - categorical_accuracy: 0.7066 - val_loss: 0.6389 - val_categorical_accuracy: 0.7132\n",
            "Epoch 88/600\n",
            "16342/16342 [==============================] - 11s 702us/sample - loss: 0.6650 - categorical_accuracy: 0.7099 - val_loss: 0.6489 - val_categorical_accuracy: 0.7073\n",
            "Epoch 89/600\n",
            "16342/16342 [==============================] - 11s 699us/sample - loss: 0.6677 - categorical_accuracy: 0.7085 - val_loss: 0.6478 - val_categorical_accuracy: 0.7200\n",
            "Epoch 90/600\n",
            "16342/16342 [==============================] - 11s 699us/sample - loss: 0.6629 - categorical_accuracy: 0.7112 - val_loss: 0.6334 - val_categorical_accuracy: 0.7303\n",
            "Epoch 91/600\n",
            "16342/16342 [==============================] - 11s 698us/sample - loss: 0.6822 - categorical_accuracy: 0.6996 - val_loss: 0.6436 - val_categorical_accuracy: 0.7034\n",
            "Epoch 92/600\n",
            "16342/16342 [==============================] - 11s 698us/sample - loss: 0.6715 - categorical_accuracy: 0.7067 - val_loss: 0.6316 - val_categorical_accuracy: 0.7264\n",
            "Epoch 93/600\n",
            "16342/16342 [==============================] - 11s 698us/sample - loss: 0.6648 - categorical_accuracy: 0.7098 - val_loss: 0.6349 - val_categorical_accuracy: 0.7186\n",
            "Epoch 94/600\n",
            "16342/16342 [==============================] - 11s 699us/sample - loss: 0.6714 - categorical_accuracy: 0.7030 - val_loss: 0.6568 - val_categorical_accuracy: 0.7117\n",
            "Epoch 95/600\n",
            "16342/16342 [==============================] - 11s 699us/sample - loss: 0.6651 - categorical_accuracy: 0.7109 - val_loss: 0.6522 - val_categorical_accuracy: 0.7000\n",
            "Epoch 96/600\n",
            "16342/16342 [==============================] - 11s 703us/sample - loss: 0.6716 - categorical_accuracy: 0.7050 - val_loss: 0.6481 - val_categorical_accuracy: 0.7097\n",
            "Epoch 97/600\n",
            "16342/16342 [==============================] - 11s 699us/sample - loss: 0.6677 - categorical_accuracy: 0.7045 - val_loss: 0.6614 - val_categorical_accuracy: 0.7034\n",
            "Epoch 98/600\n",
            "16342/16342 [==============================] - 11s 699us/sample - loss: 0.6690 - categorical_accuracy: 0.7066 - val_loss: 0.6360 - val_categorical_accuracy: 0.7102\n",
            "Epoch 99/600\n",
            "16342/16342 [==============================] - 11s 698us/sample - loss: 0.6679 - categorical_accuracy: 0.7074 - val_loss: 0.6453 - val_categorical_accuracy: 0.7063\n",
            "Epoch 100/600\n",
            "16342/16342 [==============================] - 11s 698us/sample - loss: 0.6686 - categorical_accuracy: 0.7077 - val_loss: 0.6476 - val_categorical_accuracy: 0.7190\n",
            "Epoch 101/600\n",
            "16342/16342 [==============================] - 11s 697us/sample - loss: 0.6642 - categorical_accuracy: 0.7081 - val_loss: 0.6345 - val_categorical_accuracy: 0.7190\n",
            "Epoch 102/600\n",
            "16342/16342 [==============================] - 11s 699us/sample - loss: 0.6699 - categorical_accuracy: 0.7079 - val_loss: 0.6311 - val_categorical_accuracy: 0.7288\n",
            "Epoch 103/600\n",
            "16342/16342 [==============================] - 11s 698us/sample - loss: 0.6659 - categorical_accuracy: 0.7084 - val_loss: 0.6354 - val_categorical_accuracy: 0.7244\n",
            "Epoch 104/600\n",
            "16342/16342 [==============================] - 11s 702us/sample - loss: 0.6665 - categorical_accuracy: 0.7054 - val_loss: 0.6480 - val_categorical_accuracy: 0.7210\n",
            "Epoch 105/600\n",
            "16342/16342 [==============================] - 11s 701us/sample - loss: 0.6711 - categorical_accuracy: 0.7051 - val_loss: 0.6315 - val_categorical_accuracy: 0.7220\n",
            "Epoch 106/600\n",
            "16342/16342 [==============================] - 11s 699us/sample - loss: 0.6729 - categorical_accuracy: 0.7040 - val_loss: 0.6325 - val_categorical_accuracy: 0.7269\n",
            "Epoch 107/600\n",
            "16342/16342 [==============================] - 11s 700us/sample - loss: 0.6671 - categorical_accuracy: 0.7058 - val_loss: 0.6338 - val_categorical_accuracy: 0.7176\n",
            "Epoch 108/600\n",
            "16342/16342 [==============================] - 11s 702us/sample - loss: 0.6699 - categorical_accuracy: 0.7022 - val_loss: 0.6356 - val_categorical_accuracy: 0.7141\n",
            "Epoch 109/600\n",
            "16342/16342 [==============================] - 11s 700us/sample - loss: 0.6722 - categorical_accuracy: 0.7058 - val_loss: 0.6483 - val_categorical_accuracy: 0.6985\n",
            "Epoch 110/600\n",
            "16342/16342 [==============================] - 11s 698us/sample - loss: 0.6646 - categorical_accuracy: 0.7085 - val_loss: 0.6452 - val_categorical_accuracy: 0.7019\n",
            "Epoch 111/600\n",
            "16342/16342 [==============================] - 11s 700us/sample - loss: 0.6631 - categorical_accuracy: 0.7122 - val_loss: 0.6314 - val_categorical_accuracy: 0.7195\n",
            "Epoch 112/600\n",
            "16342/16342 [==============================] - 11s 703us/sample - loss: 0.6614 - categorical_accuracy: 0.7118 - val_loss: 0.6331 - val_categorical_accuracy: 0.7132\n",
            "Epoch 113/600\n",
            "16342/16342 [==============================] - 11s 699us/sample - loss: 0.6713 - categorical_accuracy: 0.7031 - val_loss: 0.6314 - val_categorical_accuracy: 0.7293\n",
            "Epoch 114/600\n",
            "16342/16342 [==============================] - 11s 700us/sample - loss: 0.6723 - categorical_accuracy: 0.7055 - val_loss: 0.6452 - val_categorical_accuracy: 0.7190\n",
            "Epoch 115/600\n",
            "16342/16342 [==============================] - 11s 701us/sample - loss: 0.6617 - categorical_accuracy: 0.7114 - val_loss: 0.6299 - val_categorical_accuracy: 0.7220\n",
            "Epoch 116/600\n",
            "16342/16342 [==============================] - 11s 700us/sample - loss: 0.6668 - categorical_accuracy: 0.7053 - val_loss: 0.6450 - val_categorical_accuracy: 0.7078\n",
            "Epoch 117/600\n",
            "16342/16342 [==============================] - 11s 700us/sample - loss: 0.6678 - categorical_accuracy: 0.7083 - val_loss: 0.6311 - val_categorical_accuracy: 0.7244\n",
            "Epoch 118/600\n",
            "16342/16342 [==============================] - 11s 700us/sample - loss: 0.6645 - categorical_accuracy: 0.7084 - val_loss: 0.6431 - val_categorical_accuracy: 0.7205\n",
            "Epoch 119/600\n",
            "16342/16342 [==============================] - 11s 703us/sample - loss: 0.6695 - categorical_accuracy: 0.7054 - val_loss: 0.6322 - val_categorical_accuracy: 0.7230\n",
            "Epoch 120/600\n",
            "16342/16342 [==============================] - 11s 699us/sample - loss: 0.6596 - categorical_accuracy: 0.7147 - val_loss: 0.6302 - val_categorical_accuracy: 0.7274\n",
            "Epoch 121/600\n",
            "16342/16342 [==============================] - 11s 699us/sample - loss: 0.6707 - categorical_accuracy: 0.7031 - val_loss: 0.6318 - val_categorical_accuracy: 0.7225\n",
            "Epoch 122/600\n",
            "16342/16342 [==============================] - 11s 697us/sample - loss: 0.6641 - categorical_accuracy: 0.7066 - val_loss: 0.6343 - val_categorical_accuracy: 0.7176\n",
            "Epoch 123/600\n",
            "16342/16342 [==============================] - 11s 701us/sample - loss: 0.6646 - categorical_accuracy: 0.7099 - val_loss: 0.6715 - val_categorical_accuracy: 0.6985\n",
            "Epoch 124/600\n",
            "16342/16342 [==============================] - 11s 704us/sample - loss: 0.6778 - categorical_accuracy: 0.7008 - val_loss: 0.6336 - val_categorical_accuracy: 0.7215\n",
            "Epoch 125/600\n",
            "16342/16342 [==============================] - 11s 698us/sample - loss: 0.6686 - categorical_accuracy: 0.7045 - val_loss: 0.6330 - val_categorical_accuracy: 0.7200\n",
            "Epoch 126/600\n",
            "16342/16342 [==============================] - 11s 698us/sample - loss: 0.6683 - categorical_accuracy: 0.7070 - val_loss: 0.6305 - val_categorical_accuracy: 0.7190\n",
            "Epoch 127/600\n",
            "16342/16342 [==============================] - 11s 699us/sample - loss: 0.6621 - categorical_accuracy: 0.7107 - val_loss: 0.6346 - val_categorical_accuracy: 0.7220\n",
            "Epoch 128/600\n",
            "16342/16342 [==============================] - 11s 699us/sample - loss: 0.6668 - categorical_accuracy: 0.7050 - val_loss: 0.6419 - val_categorical_accuracy: 0.7078\n",
            "Epoch 129/600\n",
            "16342/16342 [==============================] - 11s 702us/sample - loss: 0.6622 - categorical_accuracy: 0.7109 - val_loss: 0.6566 - val_categorical_accuracy: 0.6955\n",
            "Epoch 130/600\n",
            "16342/16342 [==============================] - 11s 699us/sample - loss: 0.6673 - categorical_accuracy: 0.7057 - val_loss: 0.6621 - val_categorical_accuracy: 0.6931\n",
            "Epoch 131/600\n",
            "16342/16342 [==============================] - 11s 699us/sample - loss: 0.6738 - categorical_accuracy: 0.7019 - val_loss: 0.6306 - val_categorical_accuracy: 0.7234\n",
            "Epoch 132/600\n",
            "16342/16342 [==============================] - 11s 699us/sample - loss: 0.6624 - categorical_accuracy: 0.7109 - val_loss: 0.6346 - val_categorical_accuracy: 0.7166\n",
            "Epoch 133/600\n",
            "16342/16342 [==============================] - 11s 698us/sample - loss: 0.6581 - categorical_accuracy: 0.7134 - val_loss: 0.6433 - val_categorical_accuracy: 0.7073\n",
            "Epoch 134/600\n",
            "16342/16342 [==============================] - 11s 698us/sample - loss: 0.6715 - categorical_accuracy: 0.7044 - val_loss: 0.6448 - val_categorical_accuracy: 0.7097\n",
            "Epoch 135/600\n",
            "16342/16342 [==============================] - 11s 700us/sample - loss: 0.6618 - categorical_accuracy: 0.7125 - val_loss: 0.6316 - val_categorical_accuracy: 0.7230\n",
            "Epoch 136/600\n",
            "16342/16342 [==============================] - 11s 703us/sample - loss: 0.6673 - categorical_accuracy: 0.7076 - val_loss: 0.6372 - val_categorical_accuracy: 0.7093\n",
            "Epoch 137/600\n",
            "16342/16342 [==============================] - 11s 698us/sample - loss: 0.6604 - categorical_accuracy: 0.7125 - val_loss: 0.6507 - val_categorical_accuracy: 0.7029\n",
            "Epoch 138/600\n",
            "16342/16342 [==============================] - 11s 699us/sample - loss: 0.6685 - categorical_accuracy: 0.7073 - val_loss: 0.6324 - val_categorical_accuracy: 0.7161\n",
            "Epoch 139/600\n",
            "16342/16342 [==============================] - 11s 698us/sample - loss: 0.6652 - categorical_accuracy: 0.7114 - val_loss: 0.6294 - val_categorical_accuracy: 0.7220\n",
            "Epoch 140/600\n",
            "16342/16342 [==============================] - 11s 697us/sample - loss: 0.6712 - categorical_accuracy: 0.7039 - val_loss: 0.6358 - val_categorical_accuracy: 0.7234\n",
            "Epoch 141/600\n",
            "16342/16342 [==============================] - 11s 698us/sample - loss: 0.6617 - categorical_accuracy: 0.7130 - val_loss: 0.6725 - val_categorical_accuracy: 0.6926\n",
            "Epoch 142/600\n",
            "16342/16342 [==============================] - 11s 697us/sample - loss: 0.6633 - categorical_accuracy: 0.7107 - val_loss: 0.6303 - val_categorical_accuracy: 0.7234\n",
            "Epoch 143/600\n",
            "16342/16342 [==============================] - 11s 698us/sample - loss: 0.6601 - categorical_accuracy: 0.7126 - val_loss: 0.6666 - val_categorical_accuracy: 0.6946\n",
            "Epoch 144/600\n",
            "16342/16342 [==============================] - 11s 700us/sample - loss: 0.6715 - categorical_accuracy: 0.7029 - val_loss: 0.6331 - val_categorical_accuracy: 0.7332\n",
            "Epoch 145/600\n",
            "16342/16342 [==============================] - 11s 698us/sample - loss: 0.6603 - categorical_accuracy: 0.7114 - val_loss: 0.6287 - val_categorical_accuracy: 0.7225\n",
            "Epoch 146/600\n",
            "16342/16342 [==============================] - 11s 703us/sample - loss: 0.6591 - categorical_accuracy: 0.7122 - val_loss: 0.6296 - val_categorical_accuracy: 0.7259\n",
            "Epoch 147/600\n",
            "16342/16342 [==============================] - 11s 699us/sample - loss: 0.6676 - categorical_accuracy: 0.7068 - val_loss: 0.6331 - val_categorical_accuracy: 0.7337\n",
            "Epoch 148/600\n",
            "16342/16342 [==============================] - 11s 699us/sample - loss: 0.6614 - categorical_accuracy: 0.7125 - val_loss: 0.6300 - val_categorical_accuracy: 0.7215\n",
            "Epoch 149/600\n",
            "16342/16342 [==============================] - 11s 700us/sample - loss: 0.6617 - categorical_accuracy: 0.7124 - val_loss: 0.6297 - val_categorical_accuracy: 0.7249\n",
            "Epoch 150/600\n",
            "16342/16342 [==============================] - 11s 703us/sample - loss: 0.6630 - categorical_accuracy: 0.7117 - val_loss: 0.6362 - val_categorical_accuracy: 0.7102\n",
            "Epoch 151/600\n",
            "16342/16342 [==============================] - 11s 699us/sample - loss: 0.6634 - categorical_accuracy: 0.7114 - val_loss: 0.6293 - val_categorical_accuracy: 0.7264\n",
            "Epoch 152/600\n",
            "16342/16342 [==============================] - 11s 697us/sample - loss: 0.6628 - categorical_accuracy: 0.7112 - val_loss: 0.6416 - val_categorical_accuracy: 0.7244\n",
            "Epoch 153/600\n",
            "16342/16342 [==============================] - 11s 699us/sample - loss: 0.6595 - categorical_accuracy: 0.7145 - val_loss: 0.6473 - val_categorical_accuracy: 0.7048\n",
            "Epoch 154/600\n",
            "16342/16342 [==============================] - 11s 697us/sample - loss: 0.6624 - categorical_accuracy: 0.7103 - val_loss: 0.6272 - val_categorical_accuracy: 0.7244\n",
            "Epoch 155/600\n",
            "16342/16342 [==============================] - 11s 699us/sample - loss: 0.6739 - categorical_accuracy: 0.7043 - val_loss: 0.6579 - val_categorical_accuracy: 0.7004\n",
            "Epoch 156/600\n",
            "16342/16342 [==============================] - 11s 698us/sample - loss: 0.6643 - categorical_accuracy: 0.7081 - val_loss: 0.6277 - val_categorical_accuracy: 0.7259\n",
            "Epoch 157/600\n",
            "16342/16342 [==============================] - 11s 699us/sample - loss: 0.6631 - categorical_accuracy: 0.7103 - val_loss: 0.6759 - val_categorical_accuracy: 0.6955\n",
            "Epoch 158/600\n",
            "16342/16342 [==============================] - 11s 703us/sample - loss: 0.6675 - categorical_accuracy: 0.7088 - val_loss: 0.6310 - val_categorical_accuracy: 0.7166\n",
            "Epoch 159/600\n",
            "16342/16342 [==============================] - 11s 698us/sample - loss: 0.6623 - categorical_accuracy: 0.7108 - val_loss: 0.6344 - val_categorical_accuracy: 0.7137\n",
            "Epoch 160/600\n",
            "16342/16342 [==============================] - 11s 700us/sample - loss: 0.6610 - categorical_accuracy: 0.7118 - val_loss: 0.6296 - val_categorical_accuracy: 0.7186\n",
            "Epoch 161/600\n",
            "16342/16342 [==============================] - 11s 700us/sample - loss: 0.6630 - categorical_accuracy: 0.7109 - val_loss: 0.6326 - val_categorical_accuracy: 0.7318\n",
            "Epoch 162/600\n",
            "16342/16342 [==============================] - 11s 703us/sample - loss: 0.6589 - categorical_accuracy: 0.7140 - val_loss: 0.6336 - val_categorical_accuracy: 0.7298\n",
            "Epoch 163/600\n",
            "16342/16342 [==============================] - 11s 698us/sample - loss: 0.6599 - categorical_accuracy: 0.7128 - val_loss: 0.6276 - val_categorical_accuracy: 0.7264\n",
            "Epoch 164/600\n",
            "16342/16342 [==============================] - 11s 698us/sample - loss: 0.6606 - categorical_accuracy: 0.7107 - val_loss: 0.6299 - val_categorical_accuracy: 0.7303\n",
            "Epoch 165/600\n",
            "16342/16342 [==============================] - 11s 699us/sample - loss: 0.6633 - categorical_accuracy: 0.7128 - val_loss: 0.6326 - val_categorical_accuracy: 0.7298\n",
            "Epoch 166/600\n",
            "16342/16342 [==============================] - 11s 697us/sample - loss: 0.6686 - categorical_accuracy: 0.7068 - val_loss: 0.6268 - val_categorical_accuracy: 0.7244\n",
            "Epoch 167/600\n",
            "16342/16342 [==============================] - 11s 698us/sample - loss: 0.6616 - categorical_accuracy: 0.7115 - val_loss: 0.6332 - val_categorical_accuracy: 0.7200\n",
            "Epoch 168/600\n",
            "16342/16342 [==============================] - 11s 698us/sample - loss: 0.6605 - categorical_accuracy: 0.7123 - val_loss: 0.6299 - val_categorical_accuracy: 0.7249\n",
            "Epoch 169/600\n",
            "16342/16342 [==============================] - 11s 699us/sample - loss: 0.6592 - categorical_accuracy: 0.7153 - val_loss: 0.6343 - val_categorical_accuracy: 0.7249\n",
            "Epoch 170/600\n",
            "16342/16342 [==============================] - 11s 703us/sample - loss: 0.6629 - categorical_accuracy: 0.7063 - val_loss: 0.6321 - val_categorical_accuracy: 0.7293\n",
            "Epoch 171/600\n",
            "16342/16342 [==============================] - 11s 700us/sample - loss: 0.6597 - categorical_accuracy: 0.7126 - val_loss: 0.6440 - val_categorical_accuracy: 0.7112\n",
            "Epoch 172/600\n",
            "16342/16342 [==============================] - 11s 699us/sample - loss: 0.6719 - categorical_accuracy: 0.7046 - val_loss: 0.6282 - val_categorical_accuracy: 0.7283\n",
            "Epoch 173/600\n",
            "16342/16342 [==============================] - 11s 702us/sample - loss: 0.6635 - categorical_accuracy: 0.7087 - val_loss: 0.6270 - val_categorical_accuracy: 0.7288\n",
            "Epoch 174/600\n",
            "16342/16342 [==============================] - 11s 700us/sample - loss: 0.6610 - categorical_accuracy: 0.7124 - val_loss: 0.6283 - val_categorical_accuracy: 0.7215\n",
            "Epoch 175/600\n",
            "16342/16342 [==============================] - 11s 699us/sample - loss: 0.6633 - categorical_accuracy: 0.7111 - val_loss: 0.6269 - val_categorical_accuracy: 0.7269\n",
            "Epoch 176/600\n",
            "16342/16342 [==============================] - 11s 698us/sample - loss: 0.6622 - categorical_accuracy: 0.7090 - val_loss: 0.6275 - val_categorical_accuracy: 0.7249\n",
            "Epoch 177/600\n",
            "16342/16342 [==============================] - 11s 699us/sample - loss: 0.6573 - categorical_accuracy: 0.7159 - val_loss: 0.6264 - val_categorical_accuracy: 0.7264\n",
            "Epoch 178/600\n",
            "16342/16342 [==============================] - 11s 699us/sample - loss: 0.6579 - categorical_accuracy: 0.7147 - val_loss: 0.6265 - val_categorical_accuracy: 0.7293\n",
            "Epoch 179/600\n",
            "16342/16342 [==============================] - 11s 703us/sample - loss: 0.6638 - categorical_accuracy: 0.7095 - val_loss: 0.6626 - val_categorical_accuracy: 0.7078\n",
            "Epoch 180/600\n",
            "16342/16342 [==============================] - 11s 699us/sample - loss: 0.6767 - categorical_accuracy: 0.7010 - val_loss: 0.6341 - val_categorical_accuracy: 0.7171\n",
            "Epoch 181/600\n",
            "16342/16342 [==============================] - 11s 699us/sample - loss: 0.6642 - categorical_accuracy: 0.7100 - val_loss: 0.6298 - val_categorical_accuracy: 0.7244\n",
            "Epoch 182/600\n",
            "16342/16342 [==============================] - 11s 699us/sample - loss: 0.6612 - categorical_accuracy: 0.7155 - val_loss: 0.6614 - val_categorical_accuracy: 0.6951\n",
            "Epoch 183/600\n",
            "16342/16342 [==============================] - 12s 705us/sample - loss: 0.6607 - categorical_accuracy: 0.7122 - val_loss: 0.6288 - val_categorical_accuracy: 0.7313\n",
            "Epoch 184/600\n",
            "16342/16342 [==============================] - 11s 700us/sample - loss: 0.6580 - categorical_accuracy: 0.7150 - val_loss: 0.6329 - val_categorical_accuracy: 0.7298\n",
            "Epoch 185/600\n",
            "16342/16342 [==============================] - 12s 704us/sample - loss: 0.6590 - categorical_accuracy: 0.7115 - val_loss: 0.6266 - val_categorical_accuracy: 0.7254\n",
            "Epoch 186/600\n",
            "16342/16342 [==============================] - 11s 698us/sample - loss: 0.6687 - categorical_accuracy: 0.7078 - val_loss: 0.6601 - val_categorical_accuracy: 0.7014\n",
            "Epoch 187/600\n",
            "16342/16342 [==============================] - 11s 699us/sample - loss: 0.6578 - categorical_accuracy: 0.7148 - val_loss: 0.6267 - val_categorical_accuracy: 0.7269\n",
            "Epoch 188/600\n",
            "16342/16342 [==============================] - 11s 702us/sample - loss: 0.6578 - categorical_accuracy: 0.7137 - val_loss: 0.6284 - val_categorical_accuracy: 0.7215\n",
            "Epoch 189/600\n",
            "16342/16342 [==============================] - 11s 702us/sample - loss: 0.6620 - categorical_accuracy: 0.7092 - val_loss: 0.6324 - val_categorical_accuracy: 0.7220\n",
            "Epoch 190/600\n",
            "16342/16342 [==============================] - 11s 698us/sample - loss: 0.6589 - categorical_accuracy: 0.7133 - val_loss: 0.6321 - val_categorical_accuracy: 0.7166\n",
            "Epoch 191/600\n",
            "16342/16342 [==============================] - 11s 698us/sample - loss: 0.6637 - categorical_accuracy: 0.7102 - val_loss: 0.6415 - val_categorical_accuracy: 0.7137\n",
            "Epoch 192/600\n",
            "16342/16342 [==============================] - 11s 699us/sample - loss: 0.6700 - categorical_accuracy: 0.7043 - val_loss: 0.6310 - val_categorical_accuracy: 0.7249\n",
            "Epoch 193/600\n",
            "16342/16342 [==============================] - 11s 699us/sample - loss: 0.6606 - categorical_accuracy: 0.7149 - val_loss: 0.6306 - val_categorical_accuracy: 0.7186\n",
            "Epoch 194/600\n",
            "16342/16342 [==============================] - 12s 704us/sample - loss: 0.6600 - categorical_accuracy: 0.7117 - val_loss: 0.6287 - val_categorical_accuracy: 0.7176\n",
            "Epoch 195/600\n",
            "16342/16342 [==============================] - 11s 700us/sample - loss: 0.6678 - categorical_accuracy: 0.7065 - val_loss: 0.6407 - val_categorical_accuracy: 0.7171\n",
            "Epoch 196/600\n",
            "16342/16342 [==============================] - 11s 698us/sample - loss: 0.6658 - categorical_accuracy: 0.7071 - val_loss: 0.6433 - val_categorical_accuracy: 0.7088\n",
            "Epoch 197/600\n",
            "16342/16342 [==============================] - 11s 700us/sample - loss: 0.6590 - categorical_accuracy: 0.7110 - val_loss: 0.6410 - val_categorical_accuracy: 0.7137\n",
            "Epoch 198/600\n",
            "16342/16342 [==============================] - 11s 701us/sample - loss: 0.6560 - categorical_accuracy: 0.7141 - val_loss: 0.6531 - val_categorical_accuracy: 0.7029\n",
            "Epoch 199/600\n",
            "16342/16342 [==============================] - 11s 701us/sample - loss: 0.6602 - categorical_accuracy: 0.7098 - val_loss: 0.6262 - val_categorical_accuracy: 0.7249\n",
            "Epoch 200/600\n",
            "16342/16342 [==============================] - 11s 699us/sample - loss: 0.6585 - categorical_accuracy: 0.7135 - val_loss: 0.6537 - val_categorical_accuracy: 0.6985\n",
            "Epoch 201/600\n",
            "16342/16342 [==============================] - 11s 697us/sample - loss: 0.6636 - categorical_accuracy: 0.7086 - val_loss: 0.6375 - val_categorical_accuracy: 0.7146\n",
            "Epoch 202/600\n",
            "16342/16342 [==============================] - 11s 698us/sample - loss: 0.6566 - categorical_accuracy: 0.7143 - val_loss: 0.6317 - val_categorical_accuracy: 0.7293\n",
            "Epoch 203/600\n",
            "16342/16342 [==============================] - 11s 703us/sample - loss: 0.6583 - categorical_accuracy: 0.7158 - val_loss: 0.6316 - val_categorical_accuracy: 0.7269\n",
            "Epoch 204/600\n",
            "16342/16342 [==============================] - 11s 701us/sample - loss: 0.6595 - categorical_accuracy: 0.7112 - val_loss: 0.6363 - val_categorical_accuracy: 0.7127\n",
            "Epoch 205/600\n",
            "16342/16342 [==============================] - 11s 697us/sample - loss: 0.6605 - categorical_accuracy: 0.7129 - val_loss: 0.6414 - val_categorical_accuracy: 0.7225\n",
            "Epoch 206/600\n",
            "16342/16342 [==============================] - 11s 699us/sample - loss: 0.6639 - categorical_accuracy: 0.7082 - val_loss: 0.6494 - val_categorical_accuracy: 0.7004\n",
            "Epoch 207/600\n",
            "16342/16342 [==============================] - 11s 697us/sample - loss: 0.6645 - categorical_accuracy: 0.7102 - val_loss: 0.6325 - val_categorical_accuracy: 0.7234\n",
            "Epoch 208/600\n",
            "16342/16342 [==============================] - 11s 699us/sample - loss: 0.6606 - categorical_accuracy: 0.7117 - val_loss: 0.6252 - val_categorical_accuracy: 0.7264\n",
            "Epoch 209/600\n",
            "16342/16342 [==============================] - 11s 699us/sample - loss: 0.6698 - categorical_accuracy: 0.7058 - val_loss: 0.6361 - val_categorical_accuracy: 0.7279\n",
            "Epoch 210/600\n",
            "16342/16342 [==============================] - 11s 702us/sample - loss: 0.6584 - categorical_accuracy: 0.7144 - val_loss: 0.6290 - val_categorical_accuracy: 0.7195\n",
            "Epoch 211/600\n",
            "16342/16342 [==============================] - 11s 699us/sample - loss: 0.6588 - categorical_accuracy: 0.7105 - val_loss: 0.6270 - val_categorical_accuracy: 0.7249\n",
            "Epoch 212/600\n",
            "16342/16342 [==============================] - 11s 699us/sample - loss: 0.6643 - categorical_accuracy: 0.7111 - val_loss: 0.6354 - val_categorical_accuracy: 0.7313\n",
            "Epoch 213/600\n",
            "16342/16342 [==============================] - 11s 697us/sample - loss: 0.6604 - categorical_accuracy: 0.7101 - val_loss: 0.6272 - val_categorical_accuracy: 0.7254\n",
            "Epoch 214/600\n",
            "16342/16342 [==============================] - 11s 696us/sample - loss: 0.6568 - categorical_accuracy: 0.7144 - val_loss: 0.6272 - val_categorical_accuracy: 0.7318\n",
            "Epoch 215/600\n",
            "16342/16342 [==============================] - 11s 699us/sample - loss: 0.6621 - categorical_accuracy: 0.7123 - val_loss: 0.6281 - val_categorical_accuracy: 0.7293\n",
            "Epoch 216/600\n",
            "16342/16342 [==============================] - 11s 699us/sample - loss: 0.6585 - categorical_accuracy: 0.7138 - val_loss: 0.6497 - val_categorical_accuracy: 0.7048\n",
            "Epoch 217/600\n",
            "16342/16342 [==============================] - 11s 699us/sample - loss: 0.6598 - categorical_accuracy: 0.7135 - val_loss: 0.6309 - val_categorical_accuracy: 0.7200\n",
            "Epoch 218/600\n",
            "16342/16342 [==============================] - 12s 704us/sample - loss: 0.6628 - categorical_accuracy: 0.7128 - val_loss: 0.6332 - val_categorical_accuracy: 0.7332\n",
            "Epoch 219/600\n",
            "16342/16342 [==============================] - 11s 699us/sample - loss: 0.6577 - categorical_accuracy: 0.7137 - val_loss: 0.6257 - val_categorical_accuracy: 0.7254\n",
            "Epoch 220/600\n",
            "16342/16342 [==============================] - 11s 698us/sample - loss: 0.6612 - categorical_accuracy: 0.7121 - val_loss: 0.6319 - val_categorical_accuracy: 0.7190\n",
            "Epoch 221/600\n",
            "16342/16342 [==============================] - 11s 698us/sample - loss: 0.6595 - categorical_accuracy: 0.7117 - val_loss: 0.6309 - val_categorical_accuracy: 0.7239\n",
            "Epoch 222/600\n",
            "16342/16342 [==============================] - 11s 700us/sample - loss: 0.6605 - categorical_accuracy: 0.7137 - val_loss: 0.6256 - val_categorical_accuracy: 0.7283\n",
            "Epoch 223/600\n",
            "16342/16342 [==============================] - 11s 699us/sample - loss: 0.6582 - categorical_accuracy: 0.7158 - val_loss: 0.6424 - val_categorical_accuracy: 0.7078\n",
            "Epoch 224/600\n",
            "16342/16342 [==============================] - 11s 702us/sample - loss: 0.6632 - categorical_accuracy: 0.7112 - val_loss: 0.6712 - val_categorical_accuracy: 0.6951\n",
            "Epoch 225/600\n",
            "16342/16342 [==============================] - 11s 699us/sample - loss: 0.6565 - categorical_accuracy: 0.7125 - val_loss: 0.6304 - val_categorical_accuracy: 0.7156\n",
            "Epoch 226/600\n",
            "16342/16342 [==============================] - 11s 699us/sample - loss: 0.6608 - categorical_accuracy: 0.7133 - val_loss: 0.6278 - val_categorical_accuracy: 0.7195\n",
            "Epoch 227/600\n",
            "16342/16342 [==============================] - 11s 698us/sample - loss: 0.6626 - categorical_accuracy: 0.7109 - val_loss: 0.6306 - val_categorical_accuracy: 0.7190\n",
            "Epoch 228/600\n",
            "16342/16342 [==============================] - 11s 700us/sample - loss: 0.6578 - categorical_accuracy: 0.7144 - val_loss: 0.6262 - val_categorical_accuracy: 0.7244\n",
            "Epoch 229/600\n",
            "16342/16342 [==============================] - 11s 700us/sample - loss: 0.6587 - categorical_accuracy: 0.7129 - val_loss: 0.6257 - val_categorical_accuracy: 0.7288\n",
            "Epoch 230/600\n",
            "16342/16342 [==============================] - 11s 701us/sample - loss: 0.6538 - categorical_accuracy: 0.7202 - val_loss: 0.6256 - val_categorical_accuracy: 0.7298\n",
            "Epoch 231/600\n",
            "16342/16342 [==============================] - 11s 699us/sample - loss: 0.6577 - categorical_accuracy: 0.7157 - val_loss: 0.6318 - val_categorical_accuracy: 0.7161\n",
            "Epoch 232/600\n",
            "16342/16342 [==============================] - 11s 703us/sample - loss: 0.6553 - categorical_accuracy: 0.7181 - val_loss: 0.6354 - val_categorical_accuracy: 0.7230\n",
            "Epoch 233/600\n",
            "16342/16342 [==============================] - 11s 702us/sample - loss: 0.6598 - categorical_accuracy: 0.7123 - val_loss: 0.6284 - val_categorical_accuracy: 0.7298\n",
            "Epoch 234/600\n",
            "16342/16342 [==============================] - 11s 699us/sample - loss: 0.6562 - categorical_accuracy: 0.7155 - val_loss: 0.6250 - val_categorical_accuracy: 0.7205\n",
            "Epoch 235/600\n",
            "16342/16342 [==============================] - 11s 699us/sample - loss: 0.6623 - categorical_accuracy: 0.7117 - val_loss: 0.6253 - val_categorical_accuracy: 0.7303\n",
            "Epoch 236/600\n",
            "16342/16342 [==============================] - 11s 703us/sample - loss: 0.6578 - categorical_accuracy: 0.7138 - val_loss: 0.6315 - val_categorical_accuracy: 0.7269\n",
            "Epoch 237/600\n",
            "16342/16342 [==============================] - 11s 701us/sample - loss: 0.6652 - categorical_accuracy: 0.7109 - val_loss: 0.6598 - val_categorical_accuracy: 0.7034\n",
            "Epoch 238/600\n",
            "16342/16342 [==============================] - 11s 697us/sample - loss: 0.6648 - categorical_accuracy: 0.7101 - val_loss: 0.6404 - val_categorical_accuracy: 0.7102\n",
            "Epoch 239/600\n",
            "16342/16342 [==============================] - 11s 698us/sample - loss: 0.6572 - categorical_accuracy: 0.7147 - val_loss: 0.6340 - val_categorical_accuracy: 0.7264\n",
            "Epoch 240/600\n",
            "16342/16342 [==============================] - 11s 699us/sample - loss: 0.6561 - categorical_accuracy: 0.7151 - val_loss: 0.6256 - val_categorical_accuracy: 0.7283\n",
            "Epoch 241/600\n",
            "16342/16342 [==============================] - 11s 697us/sample - loss: 0.6650 - categorical_accuracy: 0.7101 - val_loss: 0.6301 - val_categorical_accuracy: 0.7220\n",
            "Epoch 242/600\n",
            "16342/16342 [==============================] - 11s 699us/sample - loss: 0.6572 - categorical_accuracy: 0.7137 - val_loss: 0.6262 - val_categorical_accuracy: 0.7259\n",
            "Epoch 243/600\n",
            "16342/16342 [==============================] - 11s 701us/sample - loss: 0.6564 - categorical_accuracy: 0.7171 - val_loss: 0.6261 - val_categorical_accuracy: 0.7337\n",
            "Epoch 244/600\n",
            "16342/16342 [==============================] - 11s 700us/sample - loss: 0.6598 - categorical_accuracy: 0.7127 - val_loss: 0.6787 - val_categorical_accuracy: 0.6887\n",
            "Epoch 245/600\n",
            "16342/16342 [==============================] - 11s 699us/sample - loss: 0.6647 - categorical_accuracy: 0.7113 - val_loss: 0.6497 - val_categorical_accuracy: 0.7044\n",
            "Epoch 246/600\n",
            "16342/16342 [==============================] - 11s 698us/sample - loss: 0.6615 - categorical_accuracy: 0.7117 - val_loss: 0.6251 - val_categorical_accuracy: 0.7225\n",
            "Epoch 247/600\n",
            "16342/16342 [==============================] - 11s 699us/sample - loss: 0.6580 - categorical_accuracy: 0.7137 - val_loss: 0.6625 - val_categorical_accuracy: 0.7029\n",
            "Epoch 248/600\n",
            "16342/16342 [==============================] - 11s 703us/sample - loss: 0.6593 - categorical_accuracy: 0.7128 - val_loss: 0.6492 - val_categorical_accuracy: 0.7200\n",
            "Epoch 249/600\n",
            "16342/16342 [==============================] - 11s 700us/sample - loss: 0.6647 - categorical_accuracy: 0.7082 - val_loss: 0.6495 - val_categorical_accuracy: 0.7029\n",
            "Epoch 250/600\n",
            "16342/16342 [==============================] - 11s 700us/sample - loss: 0.6562 - categorical_accuracy: 0.7160 - val_loss: 0.6881 - val_categorical_accuracy: 0.6867\n",
            "Epoch 251/600\n",
            "16342/16342 [==============================] - 11s 703us/sample - loss: 0.6623 - categorical_accuracy: 0.7095 - val_loss: 0.6359 - val_categorical_accuracy: 0.7308\n",
            "Epoch 252/600\n",
            "16342/16342 [==============================] - 11s 700us/sample - loss: 0.6554 - categorical_accuracy: 0.7174 - val_loss: 0.6292 - val_categorical_accuracy: 0.7303\n",
            "Epoch 253/600\n",
            "16342/16342 [==============================] - 11s 700us/sample - loss: 0.6563 - categorical_accuracy: 0.7134 - val_loss: 0.6256 - val_categorical_accuracy: 0.7220\n",
            "Epoch 254/600\n",
            "16342/16342 [==============================] - 12s 704us/sample - loss: 0.6589 - categorical_accuracy: 0.7152 - val_loss: 0.6278 - val_categorical_accuracy: 0.7195\n",
            "Epoch 255/600\n",
            "16342/16342 [==============================] - 11s 698us/sample - loss: 0.6562 - categorical_accuracy: 0.7134 - val_loss: 0.6307 - val_categorical_accuracy: 0.7171\n",
            "Epoch 256/600\n",
            "16342/16342 [==============================] - 11s 699us/sample - loss: 0.6560 - categorical_accuracy: 0.7175 - val_loss: 0.6295 - val_categorical_accuracy: 0.7234\n",
            "Epoch 257/600\n",
            "16342/16342 [==============================] - 11s 698us/sample - loss: 0.6564 - categorical_accuracy: 0.7163 - val_loss: 0.6268 - val_categorical_accuracy: 0.7195\n",
            "Epoch 258/600\n",
            "16342/16342 [==============================] - 11s 696us/sample - loss: 0.6542 - categorical_accuracy: 0.7185 - val_loss: 0.6304 - val_categorical_accuracy: 0.7215\n",
            "Epoch 259/600\n",
            "16342/16342 [==============================] - 11s 698us/sample - loss: 0.6606 - categorical_accuracy: 0.7145 - val_loss: 0.6310 - val_categorical_accuracy: 0.7195\n",
            "Epoch 260/600\n",
            "16342/16342 [==============================] - 11s 698us/sample - loss: 0.6599 - categorical_accuracy: 0.7116 - val_loss: 0.6448 - val_categorical_accuracy: 0.7102\n",
            "Epoch 261/600\n",
            "16342/16342 [==============================] - 11s 699us/sample - loss: 0.6550 - categorical_accuracy: 0.7186 - val_loss: 0.6267 - val_categorical_accuracy: 0.7283\n",
            "Epoch 262/600\n",
            "16342/16342 [==============================] - 11s 700us/sample - loss: 0.6613 - categorical_accuracy: 0.7104 - val_loss: 0.6455 - val_categorical_accuracy: 0.7190\n",
            "Epoch 263/600\n",
            "16342/16342 [==============================] - 11s 702us/sample - loss: 0.6640 - categorical_accuracy: 0.7128 - val_loss: 0.6295 - val_categorical_accuracy: 0.7249\n",
            "Epoch 264/600\n",
            "16342/16342 [==============================] - 11s 699us/sample - loss: 0.6576 - categorical_accuracy: 0.7159 - val_loss: 0.6344 - val_categorical_accuracy: 0.7137\n",
            "Epoch 265/600\n",
            "16342/16342 [==============================] - 11s 698us/sample - loss: 0.6543 - categorical_accuracy: 0.7169 - val_loss: 0.6301 - val_categorical_accuracy: 0.7205\n",
            "Epoch 266/600\n",
            "16342/16342 [==============================] - 11s 698us/sample - loss: 0.6568 - categorical_accuracy: 0.7156 - val_loss: 0.6363 - val_categorical_accuracy: 0.7127\n",
            "Epoch 267/600\n",
            "16342/16342 [==============================] - 11s 703us/sample - loss: 0.6557 - categorical_accuracy: 0.7159 - val_loss: 0.6269 - val_categorical_accuracy: 0.7244\n",
            "Epoch 268/600\n",
            "16342/16342 [==============================] - 11s 700us/sample - loss: 0.6559 - categorical_accuracy: 0.7148 - val_loss: 0.6314 - val_categorical_accuracy: 0.7176\n",
            "Epoch 269/600\n",
            "16342/16342 [==============================] - 11s 700us/sample - loss: 0.6546 - categorical_accuracy: 0.7180 - val_loss: 0.6301 - val_categorical_accuracy: 0.7190\n",
            "Epoch 270/600\n",
            "16342/16342 [==============================] - 11s 698us/sample - loss: 0.6605 - categorical_accuracy: 0.7132 - val_loss: 0.6309 - val_categorical_accuracy: 0.7146\n",
            "Epoch 271/600\n",
            "16342/16342 [==============================] - 11s 698us/sample - loss: 0.6572 - categorical_accuracy: 0.7163 - val_loss: 0.6285 - val_categorical_accuracy: 0.7215\n",
            "Epoch 272/600\n",
            "16342/16342 [==============================] - 11s 703us/sample - loss: 0.6578 - categorical_accuracy: 0.7172 - val_loss: 0.6288 - val_categorical_accuracy: 0.7190\n",
            "Epoch 273/600\n",
            "16342/16342 [==============================] - 11s 701us/sample - loss: 0.6572 - categorical_accuracy: 0.7154 - val_loss: 0.6253 - val_categorical_accuracy: 0.7264\n",
            "Epoch 274/600\n",
            "16342/16342 [==============================] - 11s 700us/sample - loss: 0.6592 - categorical_accuracy: 0.7151 - val_loss: 0.6267 - val_categorical_accuracy: 0.7254\n",
            "Epoch 275/600\n",
            "16342/16342 [==============================] - 11s 700us/sample - loss: 0.6612 - categorical_accuracy: 0.7135 - val_loss: 0.6446 - val_categorical_accuracy: 0.7205\n",
            "Epoch 276/600\n",
            "16342/16342 [==============================] - 11s 702us/sample - loss: 0.6571 - categorical_accuracy: 0.7133 - val_loss: 0.6258 - val_categorical_accuracy: 0.7342\n",
            "Epoch 277/600\n",
            "16342/16342 [==============================] - 11s 699us/sample - loss: 0.6566 - categorical_accuracy: 0.7147 - val_loss: 0.6299 - val_categorical_accuracy: 0.7239\n",
            "Epoch 278/600\n",
            "16342/16342 [==============================] - 11s 698us/sample - loss: 0.6572 - categorical_accuracy: 0.7167 - val_loss: 0.6256 - val_categorical_accuracy: 0.7313\n",
            "Epoch 279/600\n",
            "16342/16342 [==============================] - 11s 700us/sample - loss: 0.6574 - categorical_accuracy: 0.7140 - val_loss: 0.6270 - val_categorical_accuracy: 0.7303\n",
            "Epoch 280/600\n",
            "16342/16342 [==============================] - 11s 701us/sample - loss: 0.6551 - categorical_accuracy: 0.7181 - val_loss: 0.6318 - val_categorical_accuracy: 0.7215\n",
            "Epoch 281/600\n",
            "16342/16342 [==============================] - 11s 702us/sample - loss: 0.6628 - categorical_accuracy: 0.7117 - val_loss: 0.6318 - val_categorical_accuracy: 0.7166\n",
            "Epoch 282/600\n",
            "16342/16342 [==============================] - 11s 699us/sample - loss: 0.6595 - categorical_accuracy: 0.7117 - val_loss: 0.6271 - val_categorical_accuracy: 0.7205\n",
            "Epoch 283/600\n",
            "16342/16342 [==============================] - 11s 701us/sample - loss: 0.6570 - categorical_accuracy: 0.7162 - val_loss: 0.6428 - val_categorical_accuracy: 0.7083\n",
            "Epoch 284/600\n",
            "16342/16342 [==============================] - 11s 703us/sample - loss: 0.6632 - categorical_accuracy: 0.7103 - val_loss: 0.6290 - val_categorical_accuracy: 0.7176\n",
            "Epoch 285/600\n",
            "16342/16342 [==============================] - 11s 699us/sample - loss: 0.6600 - categorical_accuracy: 0.7129 - val_loss: 0.6332 - val_categorical_accuracy: 0.7254\n",
            "Epoch 286/600\n",
            "16342/16342 [==============================] - 11s 698us/sample - loss: 0.6578 - categorical_accuracy: 0.7133 - val_loss: 0.6243 - val_categorical_accuracy: 0.7293\n",
            "Epoch 287/600\n",
            "16342/16342 [==============================] - 11s 698us/sample - loss: 0.6569 - categorical_accuracy: 0.7150 - val_loss: 0.6465 - val_categorical_accuracy: 0.7078\n",
            "Epoch 288/600\n",
            "16342/16342 [==============================] - 11s 703us/sample - loss: 0.6587 - categorical_accuracy: 0.7149 - val_loss: 0.6280 - val_categorical_accuracy: 0.7308\n",
            "Epoch 289/600\n",
            "16342/16342 [==============================] - 11s 702us/sample - loss: 0.6573 - categorical_accuracy: 0.7163 - val_loss: 0.6288 - val_categorical_accuracy: 0.7200\n",
            "Epoch 290/600\n",
            "16342/16342 [==============================] - 11s 699us/sample - loss: 0.6551 - categorical_accuracy: 0.7165 - val_loss: 0.6294 - val_categorical_accuracy: 0.7327\n",
            "Epoch 291/600\n",
            "16342/16342 [==============================] - 11s 699us/sample - loss: 0.6565 - categorical_accuracy: 0.7156 - val_loss: 0.6238 - val_categorical_accuracy: 0.7323\n",
            "Epoch 292/600\n",
            "16342/16342 [==============================] - 11s 703us/sample - loss: 0.6559 - categorical_accuracy: 0.7145 - val_loss: 0.6271 - val_categorical_accuracy: 0.7342\n",
            "Epoch 293/600\n",
            "16342/16342 [==============================] - 11s 699us/sample - loss: 0.6604 - categorical_accuracy: 0.7146 - val_loss: 0.6235 - val_categorical_accuracy: 0.7279\n",
            "Epoch 294/600\n",
            "16342/16342 [==============================] - 11s 698us/sample - loss: 0.6550 - categorical_accuracy: 0.7165 - val_loss: 0.6240 - val_categorical_accuracy: 0.7327\n",
            "Epoch 295/600\n",
            "16342/16342 [==============================] - 11s 698us/sample - loss: 0.6566 - categorical_accuracy: 0.7192 - val_loss: 0.6265 - val_categorical_accuracy: 0.7293\n",
            "Epoch 296/600\n",
            "16342/16342 [==============================] - 11s 698us/sample - loss: 0.6548 - categorical_accuracy: 0.7160 - val_loss: 0.6264 - val_categorical_accuracy: 0.7220\n",
            "Epoch 297/600\n",
            "16342/16342 [==============================] - 11s 700us/sample - loss: 0.6541 - categorical_accuracy: 0.7170 - val_loss: 0.6344 - val_categorical_accuracy: 0.7171\n",
            "Epoch 298/600\n",
            "16342/16342 [==============================] - 11s 703us/sample - loss: 0.6586 - categorical_accuracy: 0.7122 - val_loss: 0.6287 - val_categorical_accuracy: 0.7298\n",
            "Epoch 299/600\n",
            "16342/16342 [==============================] - 11s 699us/sample - loss: 0.6525 - categorical_accuracy: 0.7175 - val_loss: 0.6244 - val_categorical_accuracy: 0.7293\n",
            "Epoch 300/600\n",
            "16342/16342 [==============================] - 11s 699us/sample - loss: 0.6532 - categorical_accuracy: 0.7180 - val_loss: 0.6229 - val_categorical_accuracy: 0.7298\n",
            "Epoch 301/600\n",
            "16342/16342 [==============================] - 11s 699us/sample - loss: 0.6576 - categorical_accuracy: 0.7139 - val_loss: 0.6227 - val_categorical_accuracy: 0.7347\n",
            "Epoch 302/600\n",
            "16342/16342 [==============================] - 11s 703us/sample - loss: 0.6567 - categorical_accuracy: 0.7146 - val_loss: 0.6265 - val_categorical_accuracy: 0.7200\n",
            "Epoch 303/600\n",
            "16342/16342 [==============================] - 11s 700us/sample - loss: 0.6528 - categorical_accuracy: 0.7197 - val_loss: 0.6247 - val_categorical_accuracy: 0.7308\n",
            "Epoch 304/600\n",
            "16342/16342 [==============================] - 11s 698us/sample - loss: 0.6608 - categorical_accuracy: 0.7110 - val_loss: 0.6364 - val_categorical_accuracy: 0.7093\n",
            "Epoch 305/600\n",
            "16342/16342 [==============================] - 11s 700us/sample - loss: 0.6561 - categorical_accuracy: 0.7169 - val_loss: 0.6251 - val_categorical_accuracy: 0.7274\n",
            "Epoch 306/600\n",
            "16342/16342 [==============================] - 11s 703us/sample - loss: 0.6587 - categorical_accuracy: 0.7118 - val_loss: 0.6334 - val_categorical_accuracy: 0.7127\n",
            "Epoch 307/600\n",
            "16342/16342 [==============================] - 11s 701us/sample - loss: 0.6571 - categorical_accuracy: 0.7133 - val_loss: 0.6245 - val_categorical_accuracy: 0.7239\n",
            "Epoch 308/600\n",
            "16342/16342 [==============================] - 11s 698us/sample - loss: 0.6554 - categorical_accuracy: 0.7160 - val_loss: 0.6268 - val_categorical_accuracy: 0.7239\n",
            "Epoch 309/600\n",
            "16342/16342 [==============================] - 11s 698us/sample - loss: 0.6577 - categorical_accuracy: 0.7133 - val_loss: 0.6242 - val_categorical_accuracy: 0.7308\n",
            "Epoch 310/600\n",
            "16342/16342 [==============================] - 11s 702us/sample - loss: 0.6584 - categorical_accuracy: 0.7163 - val_loss: 0.6244 - val_categorical_accuracy: 0.7210\n",
            "Epoch 311/600\n",
            "16342/16342 [==============================] - 11s 700us/sample - loss: 0.6559 - categorical_accuracy: 0.7169 - val_loss: 0.6237 - val_categorical_accuracy: 0.7264\n",
            "Epoch 312/600\n",
            "16342/16342 [==============================] - 11s 700us/sample - loss: 0.6555 - categorical_accuracy: 0.7143 - val_loss: 0.6383 - val_categorical_accuracy: 0.7156\n",
            "Epoch 313/600\n",
            "16342/16342 [==============================] - 11s 697us/sample - loss: 0.6586 - categorical_accuracy: 0.7136 - val_loss: 0.6245 - val_categorical_accuracy: 0.7269\n",
            "Epoch 314/600\n",
            "16342/16342 [==============================] - 11s 697us/sample - loss: 0.6568 - categorical_accuracy: 0.7170 - val_loss: 0.6230 - val_categorical_accuracy: 0.7327\n",
            "Epoch 315/600\n",
            "16342/16342 [==============================] - 11s 701us/sample - loss: 0.6554 - categorical_accuracy: 0.7166 - val_loss: 0.6238 - val_categorical_accuracy: 0.7293\n",
            "Epoch 316/600\n",
            "16342/16342 [==============================] - 11s 700us/sample - loss: 0.6613 - categorical_accuracy: 0.7118 - val_loss: 0.6227 - val_categorical_accuracy: 0.7283\n",
            "Epoch 317/600\n",
            "16342/16342 [==============================] - 11s 700us/sample - loss: 0.6549 - categorical_accuracy: 0.7167 - val_loss: 0.6245 - val_categorical_accuracy: 0.7318\n",
            "Epoch 318/600\n",
            "16342/16342 [==============================] - 11s 700us/sample - loss: 0.6569 - categorical_accuracy: 0.7133 - val_loss: 0.6297 - val_categorical_accuracy: 0.7210\n",
            "Epoch 319/600\n",
            "16342/16342 [==============================] - 11s 700us/sample - loss: 0.6586 - categorical_accuracy: 0.7136 - val_loss: 0.6286 - val_categorical_accuracy: 0.7200\n",
            "Epoch 320/600\n",
            "16342/16342 [==============================] - 11s 703us/sample - loss: 0.6603 - categorical_accuracy: 0.7116 - val_loss: 0.6239 - val_categorical_accuracy: 0.7234\n",
            "Epoch 321/600\n",
            "16342/16342 [==============================] - 11s 699us/sample - loss: 0.6570 - categorical_accuracy: 0.7157 - val_loss: 0.6271 - val_categorical_accuracy: 0.7205\n",
            "Epoch 322/600\n",
            "16342/16342 [==============================] - 11s 699us/sample - loss: 0.6544 - categorical_accuracy: 0.7166 - val_loss: 0.6313 - val_categorical_accuracy: 0.7220\n",
            "Epoch 323/600\n",
            "16342/16342 [==============================] - 11s 699us/sample - loss: 0.6596 - categorical_accuracy: 0.7153 - val_loss: 0.6238 - val_categorical_accuracy: 0.7234\n",
            "Epoch 324/600\n",
            "16342/16342 [==============================] - 11s 702us/sample - loss: 0.6548 - categorical_accuracy: 0.7174 - val_loss: 0.6260 - val_categorical_accuracy: 0.7342\n",
            "Epoch 325/600\n",
            "16342/16342 [==============================] - 11s 701us/sample - loss: 0.6566 - categorical_accuracy: 0.7148 - val_loss: 0.6239 - val_categorical_accuracy: 0.7283\n",
            "Epoch 326/600\n",
            "16342/16342 [==============================] - 11s 700us/sample - loss: 0.6609 - categorical_accuracy: 0.7129 - val_loss: 0.6262 - val_categorical_accuracy: 0.7244\n",
            "Epoch 327/600\n",
            "16342/16342 [==============================] - 11s 703us/sample - loss: 0.6561 - categorical_accuracy: 0.7163 - val_loss: 0.6246 - val_categorical_accuracy: 0.7239\n",
            "Epoch 328/600\n",
            "16342/16342 [==============================] - 11s 698us/sample - loss: 0.6565 - categorical_accuracy: 0.7170 - val_loss: 0.6265 - val_categorical_accuracy: 0.7195\n",
            "Epoch 329/600\n",
            "16342/16342 [==============================] - 11s 699us/sample - loss: 0.6558 - categorical_accuracy: 0.7144 - val_loss: 0.6243 - val_categorical_accuracy: 0.7288\n",
            "Epoch 330/600\n",
            "16342/16342 [==============================] - 11s 699us/sample - loss: 0.6557 - categorical_accuracy: 0.7178 - val_loss: 0.6236 - val_categorical_accuracy: 0.7308\n",
            "Epoch 331/600\n",
            "16342/16342 [==============================] - 11s 696us/sample - loss: 0.6552 - categorical_accuracy: 0.7154 - val_loss: 0.6232 - val_categorical_accuracy: 0.7323\n",
            "Epoch 332/600\n",
            "16342/16342 [==============================] - 11s 700us/sample - loss: 0.6559 - categorical_accuracy: 0.7160 - val_loss: 0.6267 - val_categorical_accuracy: 0.7254\n",
            "Epoch 333/600\n",
            "16342/16342 [==============================] - 11s 701us/sample - loss: 0.6587 - categorical_accuracy: 0.7165 - val_loss: 0.6453 - val_categorical_accuracy: 0.7186\n",
            "Epoch 334/600\n",
            "16342/16342 [==============================] - 11s 700us/sample - loss: 0.6544 - categorical_accuracy: 0.7194 - val_loss: 0.6283 - val_categorical_accuracy: 0.7239\n",
            "Epoch 335/600\n",
            "16342/16342 [==============================] - 11s 698us/sample - loss: 0.6564 - categorical_accuracy: 0.7163 - val_loss: 0.6254 - val_categorical_accuracy: 0.7283\n",
            "Epoch 336/600\n",
            "16342/16342 [==============================] - 11s 698us/sample - loss: 0.6569 - categorical_accuracy: 0.7162 - val_loss: 0.6299 - val_categorical_accuracy: 0.7225\n",
            "Epoch 337/600\n",
            "16342/16342 [==============================] - 11s 698us/sample - loss: 0.6576 - categorical_accuracy: 0.7155 - val_loss: 0.6237 - val_categorical_accuracy: 0.7293\n",
            "Epoch 338/600\n",
            "16342/16342 [==============================] - 11s 699us/sample - loss: 0.6565 - categorical_accuracy: 0.7169 - val_loss: 0.6292 - val_categorical_accuracy: 0.7249\n",
            "Epoch 339/600\n",
            "16342/16342 [==============================] - 11s 699us/sample - loss: 0.6565 - categorical_accuracy: 0.7142 - val_loss: 0.6271 - val_categorical_accuracy: 0.7210\n",
            "Epoch 340/600\n",
            "16342/16342 [==============================] - 12s 704us/sample - loss: 0.6558 - categorical_accuracy: 0.7161 - val_loss: 0.6282 - val_categorical_accuracy: 0.7279\n",
            "Epoch 341/600\n",
            "16342/16342 [==============================] - 11s 699us/sample - loss: 0.6545 - categorical_accuracy: 0.7193 - val_loss: 0.6275 - val_categorical_accuracy: 0.7264\n",
            "Epoch 342/600\n",
            "16342/16342 [==============================] - 11s 699us/sample - loss: 0.6558 - categorical_accuracy: 0.7163 - val_loss: 0.6252 - val_categorical_accuracy: 0.7249\n",
            "Epoch 343/600\n",
            "16342/16342 [==============================] - 11s 699us/sample - loss: 0.6568 - categorical_accuracy: 0.7157 - val_loss: 0.6251 - val_categorical_accuracy: 0.7372\n",
            "Epoch 344/600\n",
            "16342/16342 [==============================] - 11s 704us/sample - loss: 0.6597 - categorical_accuracy: 0.7162 - val_loss: 0.6421 - val_categorical_accuracy: 0.7107\n",
            "Epoch 345/600\n",
            "16342/16342 [==============================] - 11s 698us/sample - loss: 0.6586 - categorical_accuracy: 0.7153 - val_loss: 0.6237 - val_categorical_accuracy: 0.7337\n",
            "Epoch 346/600\n",
            "16342/16342 [==============================] - 11s 699us/sample - loss: 0.6559 - categorical_accuracy: 0.7184 - val_loss: 0.6254 - val_categorical_accuracy: 0.7239\n",
            "Epoch 347/600\n",
            "16342/16342 [==============================] - 11s 700us/sample - loss: 0.6561 - categorical_accuracy: 0.7122 - val_loss: 0.6310 - val_categorical_accuracy: 0.7323\n",
            "Epoch 348/600\n",
            "16342/16342 [==============================] - 11s 703us/sample - loss: 0.6609 - categorical_accuracy: 0.7134 - val_loss: 0.6231 - val_categorical_accuracy: 0.7303\n",
            "Epoch 349/600\n",
            "16342/16342 [==============================] - 11s 700us/sample - loss: 0.6542 - categorical_accuracy: 0.7141 - val_loss: 0.6367 - val_categorical_accuracy: 0.7137\n",
            "Epoch 350/600\n",
            "16342/16342 [==============================] - 11s 699us/sample - loss: 0.6550 - categorical_accuracy: 0.7174 - val_loss: 0.6330 - val_categorical_accuracy: 0.7151\n",
            "Epoch 351/600\n",
            "16342/16342 [==============================] - 11s 701us/sample - loss: 0.6534 - categorical_accuracy: 0.7169 - val_loss: 0.6270 - val_categorical_accuracy: 0.7362\n",
            "Epoch 352/600\n",
            "16342/16342 [==============================] - 11s 701us/sample - loss: 0.6572 - categorical_accuracy: 0.7159 - val_loss: 0.6370 - val_categorical_accuracy: 0.7112\n",
            "Epoch 353/600\n",
            "16342/16342 [==============================] - 11s 701us/sample - loss: 0.6586 - categorical_accuracy: 0.7139 - val_loss: 0.6272 - val_categorical_accuracy: 0.7342\n",
            "Epoch 354/600\n",
            "16342/16342 [==============================] - 11s 699us/sample - loss: 0.6553 - categorical_accuracy: 0.7170 - val_loss: 0.6281 - val_categorical_accuracy: 0.7249\n",
            "Epoch 355/600\n",
            "16342/16342 [==============================] - 11s 703us/sample - loss: 0.6569 - categorical_accuracy: 0.7139 - val_loss: 0.6243 - val_categorical_accuracy: 0.7323\n",
            "Epoch 356/600\n",
            "16342/16342 [==============================] - 11s 699us/sample - loss: 0.6587 - categorical_accuracy: 0.7142 - val_loss: 0.6246 - val_categorical_accuracy: 0.7264\n",
            "Epoch 357/600\n",
            "16342/16342 [==============================] - 11s 700us/sample - loss: 0.6559 - categorical_accuracy: 0.7157 - val_loss: 0.6254 - val_categorical_accuracy: 0.7200\n",
            "Epoch 358/600\n",
            "16342/16342 [==============================] - 11s 701us/sample - loss: 0.6538 - categorical_accuracy: 0.7178 - val_loss: 0.6228 - val_categorical_accuracy: 0.7347\n",
            "Epoch 359/600\n",
            "16342/16342 [==============================] - 11s 702us/sample - loss: 0.6560 - categorical_accuracy: 0.7181 - val_loss: 0.6232 - val_categorical_accuracy: 0.7259\n",
            "Epoch 360/600\n",
            "16342/16342 [==============================] - 11s 699us/sample - loss: 0.6584 - categorical_accuracy: 0.7158 - val_loss: 0.6272 - val_categorical_accuracy: 0.7190\n",
            "Epoch 361/600\n",
            "16342/16342 [==============================] - 11s 702us/sample - loss: 0.6554 - categorical_accuracy: 0.7170 - val_loss: 0.6262 - val_categorical_accuracy: 0.7259\n",
            "Epoch 362/600\n",
            "16342/16342 [==============================] - 11s 702us/sample - loss: 0.6538 - categorical_accuracy: 0.7173 - val_loss: 0.6228 - val_categorical_accuracy: 0.7303\n",
            "Epoch 363/600\n",
            "16342/16342 [==============================] - 11s 702us/sample - loss: 0.6528 - categorical_accuracy: 0.7201 - val_loss: 0.6255 - val_categorical_accuracy: 0.7318\n",
            "Epoch 364/600\n",
            "16342/16342 [==============================] - 11s 702us/sample - loss: 0.6550 - categorical_accuracy: 0.7161 - val_loss: 0.6283 - val_categorical_accuracy: 0.7230\n",
            "Epoch 365/600\n",
            "16342/16342 [==============================] - 11s 699us/sample - loss: 0.6584 - categorical_accuracy: 0.7134 - val_loss: 0.6259 - val_categorical_accuracy: 0.7230\n",
            "Epoch 366/600\n",
            "16342/16342 [==============================] - 11s 701us/sample - loss: 0.6563 - categorical_accuracy: 0.7153 - val_loss: 0.6305 - val_categorical_accuracy: 0.7308\n",
            "Epoch 367/600\n",
            "16342/16342 [==============================] - 11s 703us/sample - loss: 0.6562 - categorical_accuracy: 0.7190 - val_loss: 0.6310 - val_categorical_accuracy: 0.7220\n",
            "Epoch 368/600\n",
            "16342/16342 [==============================] - 11s 700us/sample - loss: 0.6586 - categorical_accuracy: 0.7111 - val_loss: 0.6312 - val_categorical_accuracy: 0.7200\n",
            "Epoch 369/600\n",
            "16342/16342 [==============================] - 11s 699us/sample - loss: 0.6546 - categorical_accuracy: 0.7159 - val_loss: 0.6241 - val_categorical_accuracy: 0.7303\n",
            "Epoch 370/600\n",
            "16342/16342 [==============================] - 12s 704us/sample - loss: 0.6533 - categorical_accuracy: 0.7178 - val_loss: 0.6282 - val_categorical_accuracy: 0.7234\n",
            "Epoch 371/600\n",
            "16342/16342 [==============================] - 11s 699us/sample - loss: 0.6581 - categorical_accuracy: 0.7150 - val_loss: 0.6359 - val_categorical_accuracy: 0.7122\n",
            "Epoch 372/600\n",
            "16342/16342 [==============================] - 11s 700us/sample - loss: 0.6557 - categorical_accuracy: 0.7166 - val_loss: 0.6232 - val_categorical_accuracy: 0.7249\n",
            "Epoch 373/600\n",
            "16342/16342 [==============================] - 11s 703us/sample - loss: 0.6544 - categorical_accuracy: 0.7168 - val_loss: 0.6250 - val_categorical_accuracy: 0.7293\n",
            "Epoch 374/600\n",
            "16342/16342 [==============================] - 11s 700us/sample - loss: 0.6528 - categorical_accuracy: 0.7180 - val_loss: 0.6236 - val_categorical_accuracy: 0.7303\n",
            "Epoch 375/600\n",
            "16342/16342 [==============================] - 11s 700us/sample - loss: 0.6550 - categorical_accuracy: 0.7170 - val_loss: 0.6273 - val_categorical_accuracy: 0.7264\n",
            "Epoch 376/600\n",
            "16342/16342 [==============================] - 11s 701us/sample - loss: 0.6540 - categorical_accuracy: 0.7172 - val_loss: 0.6369 - val_categorical_accuracy: 0.7137\n",
            "Epoch 377/600\n",
            "16342/16342 [==============================] - 11s 701us/sample - loss: 0.6544 - categorical_accuracy: 0.7161 - val_loss: 0.6293 - val_categorical_accuracy: 0.7220\n",
            "Epoch 378/600\n",
            "16342/16342 [==============================] - 11s 702us/sample - loss: 0.6543 - categorical_accuracy: 0.7161 - val_loss: 0.6236 - val_categorical_accuracy: 0.7303\n",
            "Epoch 379/600\n",
            "16342/16342 [==============================] - 11s 700us/sample - loss: 0.6558 - categorical_accuracy: 0.7164 - val_loss: 0.6277 - val_categorical_accuracy: 0.7303\n",
            "Epoch 380/600\n",
            "16342/16342 [==============================] - 11s 701us/sample - loss: 0.6567 - categorical_accuracy: 0.7141 - val_loss: 0.6248 - val_categorical_accuracy: 0.7249\n",
            "Epoch 381/600\n",
            "16342/16342 [==============================] - 11s 701us/sample - loss: 0.6569 - categorical_accuracy: 0.7154 - val_loss: 0.6467 - val_categorical_accuracy: 0.7190\n",
            "Epoch 382/600\n",
            "16342/16342 [==============================] - 11s 701us/sample - loss: 0.6606 - categorical_accuracy: 0.7131 - val_loss: 0.6317 - val_categorical_accuracy: 0.7195\n",
            "Epoch 383/600\n",
            "16342/16342 [==============================] - 11s 700us/sample - loss: 0.6541 - categorical_accuracy: 0.7169 - val_loss: 0.6231 - val_categorical_accuracy: 0.7381\n",
            "Epoch 384/600\n",
            "16342/16342 [==============================] - 11s 701us/sample - loss: 0.6572 - categorical_accuracy: 0.7148 - val_loss: 0.6287 - val_categorical_accuracy: 0.7254\n",
            "Epoch 385/600\n",
            "16342/16342 [==============================] - 11s 702us/sample - loss: 0.6558 - categorical_accuracy: 0.7140 - val_loss: 0.6340 - val_categorical_accuracy: 0.7112\n",
            "Epoch 386/600\n",
            "16342/16342 [==============================] - 11s 698us/sample - loss: 0.6557 - categorical_accuracy: 0.7147 - val_loss: 0.6216 - val_categorical_accuracy: 0.7327\n",
            "Epoch 387/600\n",
            "16342/16342 [==============================] - 11s 699us/sample - loss: 0.6542 - categorical_accuracy: 0.7164 - val_loss: 0.6219 - val_categorical_accuracy: 0.7293\n",
            "Epoch 388/600\n",
            "16342/16342 [==============================] - 11s 699us/sample - loss: 0.6574 - categorical_accuracy: 0.7134 - val_loss: 0.6248 - val_categorical_accuracy: 0.7337\n",
            "Epoch 389/600\n",
            "16342/16342 [==============================] - 11s 698us/sample - loss: 0.6516 - categorical_accuracy: 0.7196 - val_loss: 0.6314 - val_categorical_accuracy: 0.7220\n",
            "Epoch 390/600\n",
            "16342/16342 [==============================] - 11s 700us/sample - loss: 0.6539 - categorical_accuracy: 0.7161 - val_loss: 0.6218 - val_categorical_accuracy: 0.7308\n",
            "Epoch 391/600\n",
            "16342/16342 [==============================] - 11s 703us/sample - loss: 0.6547 - categorical_accuracy: 0.7153 - val_loss: 0.6255 - val_categorical_accuracy: 0.7225\n",
            "Epoch 392/600\n",
            "16342/16342 [==============================] - 11s 702us/sample - loss: 0.6535 - categorical_accuracy: 0.7188 - val_loss: 0.6222 - val_categorical_accuracy: 0.7303\n",
            "Epoch 393/600\n",
            "16342/16342 [==============================] - 11s 701us/sample - loss: 0.6568 - categorical_accuracy: 0.7158 - val_loss: 0.6269 - val_categorical_accuracy: 0.7225\n",
            "Epoch 394/600\n",
            "16342/16342 [==============================] - 11s 701us/sample - loss: 0.6525 - categorical_accuracy: 0.7156 - val_loss: 0.6301 - val_categorical_accuracy: 0.7195\n",
            "Epoch 395/600\n",
            "16342/16342 [==============================] - 11s 699us/sample - loss: 0.6538 - categorical_accuracy: 0.7162 - val_loss: 0.6214 - val_categorical_accuracy: 0.7342\n",
            "Epoch 396/600\n",
            "16342/16342 [==============================] - 11s 699us/sample - loss: 0.6547 - categorical_accuracy: 0.7174 - val_loss: 0.6214 - val_categorical_accuracy: 0.7332\n",
            "Epoch 397/600\n",
            "16342/16342 [==============================] - 11s 703us/sample - loss: 0.6515 - categorical_accuracy: 0.7193 - val_loss: 0.6217 - val_categorical_accuracy: 0.7303\n",
            "Epoch 398/600\n",
            "16342/16342 [==============================] - 11s 701us/sample - loss: 0.6552 - categorical_accuracy: 0.7179 - val_loss: 0.6510 - val_categorical_accuracy: 0.7166\n",
            "Epoch 399/600\n",
            "16342/16342 [==============================] - 11s 700us/sample - loss: 0.6535 - categorical_accuracy: 0.7145 - val_loss: 0.6218 - val_categorical_accuracy: 0.7298\n",
            "Epoch 400/600\n",
            "16342/16342 [==============================] - 12s 704us/sample - loss: 0.6523 - categorical_accuracy: 0.7164 - val_loss: 0.6334 - val_categorical_accuracy: 0.7186\n",
            "Epoch 401/600\n",
            "16342/16342 [==============================] - 11s 702us/sample - loss: 0.6537 - categorical_accuracy: 0.7147 - val_loss: 0.6220 - val_categorical_accuracy: 0.7298\n",
            "Epoch 402/600\n",
            "16342/16342 [==============================] - 12s 704us/sample - loss: 0.6530 - categorical_accuracy: 0.7161 - val_loss: 0.6287 - val_categorical_accuracy: 0.7200\n",
            "Epoch 403/600\n",
            "16342/16342 [==============================] - 11s 700us/sample - loss: 0.6512 - categorical_accuracy: 0.7167 - val_loss: 0.6195 - val_categorical_accuracy: 0.7332\n",
            "Epoch 404/600\n",
            "16342/16342 [==============================] - 11s 703us/sample - loss: 0.6528 - categorical_accuracy: 0.7174 - val_loss: 0.6263 - val_categorical_accuracy: 0.7244\n",
            "Epoch 405/600\n",
            "16342/16342 [==============================] - 11s 699us/sample - loss: 0.6591 - categorical_accuracy: 0.7156 - val_loss: 0.6214 - val_categorical_accuracy: 0.7274\n",
            "Epoch 406/600\n",
            "16342/16342 [==============================] - 11s 700us/sample - loss: 0.6500 - categorical_accuracy: 0.7207 - val_loss: 0.6218 - val_categorical_accuracy: 0.7332\n",
            "Epoch 407/600\n",
            "16342/16342 [==============================] - 11s 703us/sample - loss: 0.6492 - categorical_accuracy: 0.7196 - val_loss: 0.6221 - val_categorical_accuracy: 0.7244\n",
            "Epoch 408/600\n",
            "16342/16342 [==============================] - 11s 700us/sample - loss: 0.6483 - categorical_accuracy: 0.7202 - val_loss: 0.6319 - val_categorical_accuracy: 0.7293\n",
            "Epoch 409/600\n",
            "16342/16342 [==============================] - 11s 699us/sample - loss: 0.6502 - categorical_accuracy: 0.7175 - val_loss: 0.6188 - val_categorical_accuracy: 0.7288\n",
            "Epoch 410/600\n",
            "16342/16342 [==============================] - 11s 698us/sample - loss: 0.6478 - categorical_accuracy: 0.7206 - val_loss: 0.6289 - val_categorical_accuracy: 0.7195\n",
            "Epoch 411/600\n",
            "16342/16342 [==============================] - 11s 698us/sample - loss: 0.6500 - categorical_accuracy: 0.7169 - val_loss: 0.6188 - val_categorical_accuracy: 0.7274\n",
            "Epoch 412/600\n",
            "16342/16342 [==============================] - 11s 699us/sample - loss: 0.6536 - categorical_accuracy: 0.7130 - val_loss: 0.6186 - val_categorical_accuracy: 0.7283\n",
            "Epoch 413/600\n",
            "16342/16342 [==============================] - 11s 700us/sample - loss: 0.6451 - categorical_accuracy: 0.7196 - val_loss: 0.6219 - val_categorical_accuracy: 0.7234\n",
            "Epoch 414/600\n",
            "16342/16342 [==============================] - 11s 702us/sample - loss: 0.6507 - categorical_accuracy: 0.7175 - val_loss: 0.6175 - val_categorical_accuracy: 0.7288\n",
            "Epoch 415/600\n",
            "16342/16342 [==============================] - 11s 699us/sample - loss: 0.6510 - categorical_accuracy: 0.7140 - val_loss: 0.6179 - val_categorical_accuracy: 0.7269\n",
            "Epoch 416/600\n",
            "16342/16342 [==============================] - 11s 698us/sample - loss: 0.6498 - categorical_accuracy: 0.7176 - val_loss: 0.6205 - val_categorical_accuracy: 0.7283\n",
            "Epoch 417/600\n",
            "16342/16342 [==============================] - 11s 697us/sample - loss: 0.6474 - categorical_accuracy: 0.7192 - val_loss: 0.6177 - val_categorical_accuracy: 0.7288\n",
            "Epoch 418/600\n",
            "16342/16342 [==============================] - 11s 699us/sample - loss: 0.6486 - categorical_accuracy: 0.7161 - val_loss: 0.6189 - val_categorical_accuracy: 0.7308\n",
            "Epoch 419/600\n",
            "16342/16342 [==============================] - 11s 696us/sample - loss: 0.6502 - categorical_accuracy: 0.7138 - val_loss: 0.6180 - val_categorical_accuracy: 0.7249\n",
            "Epoch 420/600\n",
            "16342/16342 [==============================] - 11s 698us/sample - loss: 0.6467 - categorical_accuracy: 0.7180 - val_loss: 0.6196 - val_categorical_accuracy: 0.7337\n",
            "Epoch 421/600\n",
            "16342/16342 [==============================] - 11s 701us/sample - loss: 0.6483 - categorical_accuracy: 0.7172 - val_loss: 0.6162 - val_categorical_accuracy: 0.7288\n",
            "Epoch 422/600\n",
            "16342/16342 [==============================] - 11s 701us/sample - loss: 0.6446 - categorical_accuracy: 0.7204 - val_loss: 0.6171 - val_categorical_accuracy: 0.7283\n",
            "Epoch 423/600\n",
            "16342/16342 [==============================] - 11s 701us/sample - loss: 0.6471 - categorical_accuracy: 0.7166 - val_loss: 0.6529 - val_categorical_accuracy: 0.7048\n",
            "Epoch 424/600\n",
            "16342/16342 [==============================] - 11s 698us/sample - loss: 0.6486 - categorical_accuracy: 0.7168 - val_loss: 0.6217 - val_categorical_accuracy: 0.7234\n",
            "Epoch 425/600\n",
            "16342/16342 [==============================] - 12s 704us/sample - loss: 0.6449 - categorical_accuracy: 0.7195 - val_loss: 0.6197 - val_categorical_accuracy: 0.7259\n",
            "Epoch 426/600\n",
            "16342/16342 [==============================] - 11s 699us/sample - loss: 0.6492 - categorical_accuracy: 0.7160 - val_loss: 0.6165 - val_categorical_accuracy: 0.7293\n",
            "Epoch 427/600\n",
            "16342/16342 [==============================] - 11s 701us/sample - loss: 0.6470 - categorical_accuracy: 0.7202 - val_loss: 0.6186 - val_categorical_accuracy: 0.7259\n",
            "Epoch 428/600\n",
            "16342/16342 [==============================] - 11s 704us/sample - loss: 0.6452 - categorical_accuracy: 0.7177 - val_loss: 0.6251 - val_categorical_accuracy: 0.7254\n",
            "Epoch 429/600\n",
            "16342/16342 [==============================] - 11s 700us/sample - loss: 0.6471 - categorical_accuracy: 0.7192 - val_loss: 0.6182 - val_categorical_accuracy: 0.7318\n",
            "Epoch 430/600\n",
            "16342/16342 [==============================] - 11s 700us/sample - loss: 0.6433 - categorical_accuracy: 0.7209 - val_loss: 0.6284 - val_categorical_accuracy: 0.7195\n",
            "Epoch 431/600\n",
            "16342/16342 [==============================] - 12s 704us/sample - loss: 0.6454 - categorical_accuracy: 0.7191 - val_loss: 0.6167 - val_categorical_accuracy: 0.7303\n",
            "Epoch 432/600\n",
            "16342/16342 [==============================] - 11s 699us/sample - loss: 0.6519 - categorical_accuracy: 0.7121 - val_loss: 0.6214 - val_categorical_accuracy: 0.7239\n",
            "Epoch 433/600\n",
            "16342/16342 [==============================] - 11s 699us/sample - loss: 0.6459 - categorical_accuracy: 0.7174 - val_loss: 0.6187 - val_categorical_accuracy: 0.7283\n",
            "Epoch 434/600\n",
            "16342/16342 [==============================] - 11s 704us/sample - loss: 0.6475 - categorical_accuracy: 0.7186 - val_loss: 0.6229 - val_categorical_accuracy: 0.7239\n",
            "Epoch 435/600\n",
            "16342/16342 [==============================] - 11s 701us/sample - loss: 0.6437 - categorical_accuracy: 0.7205 - val_loss: 0.6225 - val_categorical_accuracy: 0.7279\n",
            "Epoch 436/600\n",
            "16342/16342 [==============================] - 12s 705us/sample - loss: 0.6467 - categorical_accuracy: 0.7180 - val_loss: 0.6234 - val_categorical_accuracy: 0.7259\n",
            "Epoch 437/600\n",
            "16342/16342 [==============================] - 11s 701us/sample - loss: 0.6452 - categorical_accuracy: 0.7200 - val_loss: 0.6222 - val_categorical_accuracy: 0.7220\n",
            "Epoch 438/600\n",
            "16342/16342 [==============================] - 12s 705us/sample - loss: 0.6456 - categorical_accuracy: 0.7171 - val_loss: 0.6178 - val_categorical_accuracy: 0.7332\n",
            "Epoch 439/600\n",
            "16342/16342 [==============================] - 11s 700us/sample - loss: 0.6448 - categorical_accuracy: 0.7180 - val_loss: 0.6169 - val_categorical_accuracy: 0.7298\n",
            "Epoch 440/600\n",
            "16342/16342 [==============================] - 11s 701us/sample - loss: 0.6477 - categorical_accuracy: 0.7174 - val_loss: 0.6398 - val_categorical_accuracy: 0.7166\n",
            "Epoch 441/600\n",
            "16342/16342 [==============================] - 11s 703us/sample - loss: 0.6476 - categorical_accuracy: 0.7180 - val_loss: 0.6163 - val_categorical_accuracy: 0.7303\n",
            "Epoch 442/600\n",
            "16342/16342 [==============================] - 11s 703us/sample - loss: 0.6453 - categorical_accuracy: 0.7169 - val_loss: 0.6264 - val_categorical_accuracy: 0.7230\n",
            "Epoch 443/600\n",
            "16342/16342 [==============================] - 11s 701us/sample - loss: 0.6428 - categorical_accuracy: 0.7192 - val_loss: 0.6144 - val_categorical_accuracy: 0.7283\n",
            "Epoch 444/600\n",
            "16342/16342 [==============================] - 11s 700us/sample - loss: 0.6428 - categorical_accuracy: 0.7209 - val_loss: 0.6248 - val_categorical_accuracy: 0.7323\n",
            "Epoch 445/600\n",
            "16342/16342 [==============================] - 11s 700us/sample - loss: 0.6463 - categorical_accuracy: 0.7190 - val_loss: 0.6180 - val_categorical_accuracy: 0.7279\n",
            "Epoch 446/600\n",
            "16342/16342 [==============================] - 11s 697us/sample - loss: 0.6440 - categorical_accuracy: 0.7194 - val_loss: 0.6163 - val_categorical_accuracy: 0.7313\n",
            "Epoch 447/600\n",
            "16342/16342 [==============================] - 11s 700us/sample - loss: 0.6498 - categorical_accuracy: 0.7159 - val_loss: 0.6366 - val_categorical_accuracy: 0.7156\n",
            "Epoch 448/600\n",
            "16342/16342 [==============================] - 11s 704us/sample - loss: 0.6432 - categorical_accuracy: 0.7221 - val_loss: 0.6205 - val_categorical_accuracy: 0.7259\n",
            "Epoch 449/600\n",
            "16342/16342 [==============================] - 11s 700us/sample - loss: 0.6425 - categorical_accuracy: 0.7205 - val_loss: 0.6174 - val_categorical_accuracy: 0.7279\n",
            "Epoch 450/600\n",
            "16342/16342 [==============================] - 11s 699us/sample - loss: 0.6487 - categorical_accuracy: 0.7168 - val_loss: 0.6162 - val_categorical_accuracy: 0.7283\n",
            "Epoch 451/600\n",
            "16342/16342 [==============================] - 11s 703us/sample - loss: 0.6424 - categorical_accuracy: 0.7218 - val_loss: 0.6145 - val_categorical_accuracy: 0.7332\n",
            "Epoch 452/600\n",
            "16342/16342 [==============================] - 11s 699us/sample - loss: 0.6444 - categorical_accuracy: 0.7194 - val_loss: 0.6189 - val_categorical_accuracy: 0.7288\n",
            "Epoch 453/600\n",
            "16342/16342 [==============================] - 11s 699us/sample - loss: 0.6427 - categorical_accuracy: 0.7234 - val_loss: 0.6272 - val_categorical_accuracy: 0.7249\n",
            "Epoch 454/600\n",
            "16342/16342 [==============================] - 11s 700us/sample - loss: 0.6427 - categorical_accuracy: 0.7199 - val_loss: 0.6189 - val_categorical_accuracy: 0.7293\n",
            "Epoch 455/600\n",
            "16342/16342 [==============================] - 11s 702us/sample - loss: 0.6466 - categorical_accuracy: 0.7167 - val_loss: 0.6180 - val_categorical_accuracy: 0.7274\n",
            "Epoch 456/600\n",
            "16342/16342 [==============================] - 11s 701us/sample - loss: 0.6456 - categorical_accuracy: 0.7183 - val_loss: 0.6155 - val_categorical_accuracy: 0.7293\n",
            "Epoch 457/600\n",
            "16342/16342 [==============================] - 11s 702us/sample - loss: 0.6449 - categorical_accuracy: 0.7202 - val_loss: 0.6222 - val_categorical_accuracy: 0.7264\n",
            "Epoch 458/600\n",
            "16342/16342 [==============================] - 11s 700us/sample - loss: 0.6441 - categorical_accuracy: 0.7213 - val_loss: 0.6285 - val_categorical_accuracy: 0.7171\n",
            "Epoch 459/600\n",
            "16342/16342 [==============================] - 11s 700us/sample - loss: 0.6475 - categorical_accuracy: 0.7151 - val_loss: 0.6182 - val_categorical_accuracy: 0.7264\n",
            "Epoch 460/600\n",
            "16342/16342 [==============================] - 11s 700us/sample - loss: 0.6466 - categorical_accuracy: 0.7178 - val_loss: 0.6197 - val_categorical_accuracy: 0.7259\n",
            "Epoch 461/600\n",
            "16342/16342 [==============================] - 11s 704us/sample - loss: 0.6469 - categorical_accuracy: 0.7167 - val_loss: 0.6175 - val_categorical_accuracy: 0.7264\n",
            "Epoch 462/600\n",
            "16342/16342 [==============================] - 11s 700us/sample - loss: 0.6408 - categorical_accuracy: 0.7219 - val_loss: 0.6146 - val_categorical_accuracy: 0.7303\n",
            "Epoch 463/600\n",
            "16342/16342 [==============================] - 11s 699us/sample - loss: 0.6426 - categorical_accuracy: 0.7198 - val_loss: 0.6206 - val_categorical_accuracy: 0.7264\n",
            "Epoch 464/600\n",
            "16342/16342 [==============================] - 11s 703us/sample - loss: 0.6481 - categorical_accuracy: 0.7153 - val_loss: 0.6256 - val_categorical_accuracy: 0.7244\n",
            "Epoch 465/600\n",
            "16342/16342 [==============================] - 11s 697us/sample - loss: 0.6448 - categorical_accuracy: 0.7211 - val_loss: 0.6163 - val_categorical_accuracy: 0.7283\n",
            "Epoch 466/600\n",
            "16342/16342 [==============================] - 11s 701us/sample - loss: 0.6433 - categorical_accuracy: 0.7193 - val_loss: 0.6156 - val_categorical_accuracy: 0.7283\n",
            "Epoch 467/600\n",
            "16342/16342 [==============================] - 11s 698us/sample - loss: 0.6442 - categorical_accuracy: 0.7197 - val_loss: 0.6308 - val_categorical_accuracy: 0.7200\n",
            "Epoch 468/600\n",
            "16342/16342 [==============================] - 11s 697us/sample - loss: 0.6445 - categorical_accuracy: 0.7181 - val_loss: 0.6230 - val_categorical_accuracy: 0.7283\n",
            "Epoch 469/600\n",
            "16342/16342 [==============================] - 11s 700us/sample - loss: 0.6402 - categorical_accuracy: 0.7208 - val_loss: 0.6141 - val_categorical_accuracy: 0.7298\n",
            "Epoch 470/600\n",
            "16342/16342 [==============================] - 11s 700us/sample - loss: 0.6425 - categorical_accuracy: 0.7237 - val_loss: 0.6173 - val_categorical_accuracy: 0.7303\n",
            "Epoch 471/600\n",
            "16342/16342 [==============================] - 11s 701us/sample - loss: 0.6434 - categorical_accuracy: 0.7213 - val_loss: 0.6136 - val_categorical_accuracy: 0.7323\n",
            "Epoch 472/600\n",
            "16342/16342 [==============================] - 11s 699us/sample - loss: 0.6422 - categorical_accuracy: 0.7202 - val_loss: 0.6254 - val_categorical_accuracy: 0.7210\n",
            "Epoch 473/600\n",
            "16342/16342 [==============================] - 11s 699us/sample - loss: 0.6434 - categorical_accuracy: 0.7196 - val_loss: 0.6130 - val_categorical_accuracy: 0.7308\n",
            "Epoch 474/600\n",
            "16342/16342 [==============================] - 11s 701us/sample - loss: 0.6433 - categorical_accuracy: 0.7207 - val_loss: 0.6297 - val_categorical_accuracy: 0.7283\n",
            "Epoch 475/600\n",
            "16342/16342 [==============================] - 11s 702us/sample - loss: 0.6459 - categorical_accuracy: 0.7186 - val_loss: 0.6234 - val_categorical_accuracy: 0.7254\n",
            "Epoch 476/600\n",
            "16342/16342 [==============================] - 11s 700us/sample - loss: 0.6397 - categorical_accuracy: 0.7207 - val_loss: 0.6200 - val_categorical_accuracy: 0.7376\n",
            "Epoch 477/600\n",
            "16342/16342 [==============================] - 11s 700us/sample - loss: 0.6406 - categorical_accuracy: 0.7241 - val_loss: 0.6130 - val_categorical_accuracy: 0.7308\n",
            "Epoch 478/600\n",
            "16342/16342 [==============================] - 11s 703us/sample - loss: 0.6396 - categorical_accuracy: 0.7227 - val_loss: 0.6159 - val_categorical_accuracy: 0.7274\n",
            "Epoch 479/600\n",
            "16342/16342 [==============================] - 11s 702us/sample - loss: 0.6432 - categorical_accuracy: 0.7217 - val_loss: 0.6161 - val_categorical_accuracy: 0.7293\n",
            "Epoch 480/600\n",
            "16342/16342 [==============================] - 11s 700us/sample - loss: 0.6425 - categorical_accuracy: 0.7202 - val_loss: 0.6146 - val_categorical_accuracy: 0.7303\n",
            "Epoch 481/600\n",
            "16342/16342 [==============================] - 11s 702us/sample - loss: 0.6422 - categorical_accuracy: 0.7219 - val_loss: 0.6135 - val_categorical_accuracy: 0.7283\n",
            "Epoch 482/600\n",
            "16342/16342 [==============================] - 11s 700us/sample - loss: 0.6402 - categorical_accuracy: 0.7235 - val_loss: 0.6149 - val_categorical_accuracy: 0.7323\n",
            "Epoch 483/600\n",
            "16342/16342 [==============================] - 11s 698us/sample - loss: 0.6452 - categorical_accuracy: 0.7183 - val_loss: 0.6155 - val_categorical_accuracy: 0.7259\n",
            "Epoch 484/600\n",
            "16342/16342 [==============================] - 11s 700us/sample - loss: 0.6429 - categorical_accuracy: 0.7211 - val_loss: 0.6122 - val_categorical_accuracy: 0.7298\n",
            "Epoch 485/600\n",
            "16342/16342 [==============================] - 11s 703us/sample - loss: 0.6399 - categorical_accuracy: 0.7226 - val_loss: 0.6165 - val_categorical_accuracy: 0.7332\n",
            "Epoch 486/600\n",
            "16342/16342 [==============================] - 11s 700us/sample - loss: 0.6404 - categorical_accuracy: 0.7213 - val_loss: 0.6138 - val_categorical_accuracy: 0.7318\n",
            "Epoch 487/600\n",
            "16342/16342 [==============================] - 11s 698us/sample - loss: 0.6417 - categorical_accuracy: 0.7201 - val_loss: 0.6134 - val_categorical_accuracy: 0.7318\n",
            "Epoch 488/600\n",
            "16342/16342 [==============================] - 11s 699us/sample - loss: 0.6421 - categorical_accuracy: 0.7210 - val_loss: 0.6127 - val_categorical_accuracy: 0.7337\n",
            "Epoch 489/600\n",
            "16342/16342 [==============================] - 11s 701us/sample - loss: 0.6405 - categorical_accuracy: 0.7225 - val_loss: 0.6123 - val_categorical_accuracy: 0.7327\n",
            "Epoch 490/600\n",
            "16342/16342 [==============================] - 11s 701us/sample - loss: 0.6380 - categorical_accuracy: 0.7229 - val_loss: 0.6135 - val_categorical_accuracy: 0.7288\n",
            "Epoch 491/600\n",
            "16342/16342 [==============================] - 11s 703us/sample - loss: 0.6386 - categorical_accuracy: 0.7234 - val_loss: 0.6135 - val_categorical_accuracy: 0.7318\n",
            "Epoch 492/600\n",
            "16342/16342 [==============================] - 11s 702us/sample - loss: 0.6384 - categorical_accuracy: 0.7264 - val_loss: 0.6137 - val_categorical_accuracy: 0.7308\n",
            "Epoch 493/600\n",
            "16342/16342 [==============================] - 11s 699us/sample - loss: 0.6413 - categorical_accuracy: 0.7213 - val_loss: 0.6130 - val_categorical_accuracy: 0.7303\n",
            "Epoch 494/600\n",
            "16342/16342 [==============================] - 11s 699us/sample - loss: 0.6428 - categorical_accuracy: 0.7202 - val_loss: 0.6149 - val_categorical_accuracy: 0.7288\n",
            "Epoch 495/600\n",
            "16342/16342 [==============================] - 11s 698us/sample - loss: 0.6381 - categorical_accuracy: 0.7234 - val_loss: 0.6115 - val_categorical_accuracy: 0.7308\n",
            "Epoch 496/600\n",
            "16342/16342 [==============================] - 11s 702us/sample - loss: 0.6395 - categorical_accuracy: 0.7251 - val_loss: 0.6200 - val_categorical_accuracy: 0.7244\n",
            "Epoch 497/600\n",
            "16342/16342 [==============================] - 11s 700us/sample - loss: 0.6386 - categorical_accuracy: 0.7218 - val_loss: 0.6256 - val_categorical_accuracy: 0.7327\n",
            "Epoch 498/600\n",
            "16342/16342 [==============================] - 11s 698us/sample - loss: 0.6399 - categorical_accuracy: 0.7223 - val_loss: 0.6192 - val_categorical_accuracy: 0.7239\n",
            "Epoch 499/600\n",
            "16342/16342 [==============================] - 11s 700us/sample - loss: 0.6368 - categorical_accuracy: 0.7243 - val_loss: 0.6155 - val_categorical_accuracy: 0.7274\n",
            "Epoch 500/600\n",
            "16342/16342 [==============================] - 11s 703us/sample - loss: 0.6396 - categorical_accuracy: 0.7210 - val_loss: 0.6113 - val_categorical_accuracy: 0.7269\n",
            "Epoch 501/600\n",
            "16342/16342 [==============================] - 11s 700us/sample - loss: 0.6395 - categorical_accuracy: 0.7206 - val_loss: 0.6131 - val_categorical_accuracy: 0.7293\n",
            "Epoch 502/600\n",
            "16342/16342 [==============================] - 11s 698us/sample - loss: 0.6416 - categorical_accuracy: 0.7216 - val_loss: 0.6220 - val_categorical_accuracy: 0.7254\n",
            "Epoch 503/600\n",
            "16342/16342 [==============================] - 11s 700us/sample - loss: 0.6406 - categorical_accuracy: 0.7211 - val_loss: 0.6181 - val_categorical_accuracy: 0.7264\n",
            "Epoch 504/600\n",
            "16342/16342 [==============================] - 11s 703us/sample - loss: 0.6429 - categorical_accuracy: 0.7210 - val_loss: 0.6138 - val_categorical_accuracy: 0.7279\n",
            "Epoch 505/600\n",
            "16342/16342 [==============================] - 11s 701us/sample - loss: 0.6389 - categorical_accuracy: 0.7234 - val_loss: 0.6125 - val_categorical_accuracy: 0.7303\n",
            "Epoch 506/600\n",
            "16342/16342 [==============================] - 11s 698us/sample - loss: 0.6407 - categorical_accuracy: 0.7225 - val_loss: 0.6200 - val_categorical_accuracy: 0.7205\n",
            "Epoch 507/600\n",
            "16342/16342 [==============================] - 11s 701us/sample - loss: 0.6375 - categorical_accuracy: 0.7248 - val_loss: 0.6240 - val_categorical_accuracy: 0.7176\n",
            "Epoch 508/600\n",
            "16342/16342 [==============================] - 11s 701us/sample - loss: 0.6391 - categorical_accuracy: 0.7212 - val_loss: 0.6151 - val_categorical_accuracy: 0.7249\n",
            "Epoch 509/600\n",
            "16342/16342 [==============================] - 11s 699us/sample - loss: 0.6420 - categorical_accuracy: 0.7208 - val_loss: 0.6111 - val_categorical_accuracy: 0.7337\n",
            "Epoch 510/600\n",
            "16342/16342 [==============================] - 11s 700us/sample - loss: 0.6417 - categorical_accuracy: 0.7202 - val_loss: 0.6109 - val_categorical_accuracy: 0.7308\n",
            "Epoch 511/600\n",
            "16342/16342 [==============================] - 11s 703us/sample - loss: 0.6423 - categorical_accuracy: 0.7218 - val_loss: 0.6116 - val_categorical_accuracy: 0.7283\n",
            "Epoch 512/600\n",
            "16342/16342 [==============================] - 11s 700us/sample - loss: 0.6383 - categorical_accuracy: 0.7263 - val_loss: 0.6107 - val_categorical_accuracy: 0.7298\n",
            "Epoch 513/600\n",
            "16342/16342 [==============================] - 11s 698us/sample - loss: 0.6386 - categorical_accuracy: 0.7245 - val_loss: 0.6137 - val_categorical_accuracy: 0.7337\n",
            "Epoch 514/600\n",
            "16342/16342 [==============================] - 11s 699us/sample - loss: 0.6376 - categorical_accuracy: 0.7248 - val_loss: 0.6103 - val_categorical_accuracy: 0.7308\n",
            "Epoch 515/600\n",
            "16342/16342 [==============================] - 11s 703us/sample - loss: 0.6388 - categorical_accuracy: 0.7217 - val_loss: 0.6101 - val_categorical_accuracy: 0.7313\n",
            "Epoch 516/600\n",
            "16342/16342 [==============================] - 11s 701us/sample - loss: 0.6381 - categorical_accuracy: 0.7236 - val_loss: 0.6099 - val_categorical_accuracy: 0.7298\n",
            "Epoch 517/600\n",
            "16342/16342 [==============================] - 11s 699us/sample - loss: 0.6429 - categorical_accuracy: 0.7178 - val_loss: 0.6123 - val_categorical_accuracy: 0.7352\n",
            "Epoch 518/600\n",
            "16342/16342 [==============================] - 11s 703us/sample - loss: 0.6373 - categorical_accuracy: 0.7259 - val_loss: 0.6117 - val_categorical_accuracy: 0.7288\n",
            "Epoch 519/600\n",
            "16342/16342 [==============================] - 11s 699us/sample - loss: 0.6365 - categorical_accuracy: 0.7253 - val_loss: 0.6097 - val_categorical_accuracy: 0.7269\n",
            "Epoch 520/600\n",
            "16342/16342 [==============================] - 11s 698us/sample - loss: 0.6384 - categorical_accuracy: 0.7228 - val_loss: 0.6204 - val_categorical_accuracy: 0.7195\n",
            "Epoch 521/600\n",
            "16342/16342 [==============================] - 11s 699us/sample - loss: 0.6396 - categorical_accuracy: 0.7229 - val_loss: 0.6117 - val_categorical_accuracy: 0.7279\n",
            "Epoch 522/600\n",
            "16342/16342 [==============================] - 11s 699us/sample - loss: 0.6403 - categorical_accuracy: 0.7205 - val_loss: 0.6166 - val_categorical_accuracy: 0.7234\n",
            "Epoch 523/600\n",
            "16342/16342 [==============================] - 11s 703us/sample - loss: 0.6371 - categorical_accuracy: 0.7237 - val_loss: 0.6091 - val_categorical_accuracy: 0.7327\n",
            "Epoch 524/600\n",
            "16342/16342 [==============================] - 11s 701us/sample - loss: 0.6362 - categorical_accuracy: 0.7225 - val_loss: 0.6123 - val_categorical_accuracy: 0.7279\n",
            "Epoch 525/600\n",
            "16342/16342 [==============================] - 11s 698us/sample - loss: 0.6366 - categorical_accuracy: 0.7231 - val_loss: 0.6151 - val_categorical_accuracy: 0.7332\n",
            "Epoch 526/600\n",
            "16342/16342 [==============================] - 12s 704us/sample - loss: 0.6406 - categorical_accuracy: 0.7197 - val_loss: 0.6087 - val_categorical_accuracy: 0.7283\n",
            "Epoch 527/600\n",
            "16342/16342 [==============================] - 11s 701us/sample - loss: 0.6370 - categorical_accuracy: 0.7231 - val_loss: 0.6176 - val_categorical_accuracy: 0.7264\n",
            "Epoch 528/600\n",
            "16342/16342 [==============================] - 11s 697us/sample - loss: 0.6369 - categorical_accuracy: 0.7244 - val_loss: 0.6355 - val_categorical_accuracy: 0.7210\n",
            "Epoch 529/600\n",
            "16342/16342 [==============================] - 11s 698us/sample - loss: 0.6422 - categorical_accuracy: 0.7195 - val_loss: 0.6078 - val_categorical_accuracy: 0.7323\n",
            "Epoch 530/600\n",
            "16342/16342 [==============================] - 11s 699us/sample - loss: 0.6353 - categorical_accuracy: 0.7238 - val_loss: 0.6090 - val_categorical_accuracy: 0.7313\n",
            "Epoch 531/600\n",
            "16342/16342 [==============================] - 11s 698us/sample - loss: 0.6367 - categorical_accuracy: 0.7234 - val_loss: 0.6166 - val_categorical_accuracy: 0.7244\n",
            "Epoch 532/600\n",
            "16342/16342 [==============================] - 11s 701us/sample - loss: 0.6444 - categorical_accuracy: 0.7140 - val_loss: 0.6170 - val_categorical_accuracy: 0.7347\n",
            "Epoch 533/600\n",
            "16342/16342 [==============================] - 11s 702us/sample - loss: 0.6375 - categorical_accuracy: 0.7234 - val_loss: 0.6097 - val_categorical_accuracy: 0.7288\n",
            "Epoch 534/600\n",
            "16342/16342 [==============================] - 11s 698us/sample - loss: 0.6356 - categorical_accuracy: 0.7220 - val_loss: 0.6146 - val_categorical_accuracy: 0.7215\n",
            "Epoch 535/600\n",
            "16342/16342 [==============================] - 11s 698us/sample - loss: 0.6377 - categorical_accuracy: 0.7229 - val_loss: 0.6089 - val_categorical_accuracy: 0.7298\n",
            "Epoch 536/600\n",
            "16342/16342 [==============================] - 11s 699us/sample - loss: 0.6357 - categorical_accuracy: 0.7248 - val_loss: 0.6198 - val_categorical_accuracy: 0.7249\n",
            "Epoch 537/600\n",
            "16342/16342 [==============================] - 11s 700us/sample - loss: 0.6388 - categorical_accuracy: 0.7189 - val_loss: 0.6070 - val_categorical_accuracy: 0.7288\n",
            "Epoch 538/600\n",
            "16342/16342 [==============================] - 11s 701us/sample - loss: 0.6396 - categorical_accuracy: 0.7217 - val_loss: 0.6128 - val_categorical_accuracy: 0.7376\n",
            "Epoch 539/600\n",
            "16342/16342 [==============================] - 11s 700us/sample - loss: 0.6354 - categorical_accuracy: 0.7232 - val_loss: 0.6080 - val_categorical_accuracy: 0.7308\n",
            "Epoch 540/600\n",
            "16342/16342 [==============================] - 11s 699us/sample - loss: 0.6377 - categorical_accuracy: 0.7220 - val_loss: 0.6065 - val_categorical_accuracy: 0.7283\n",
            "Epoch 541/600\n",
            "16342/16342 [==============================] - 11s 704us/sample - loss: 0.6394 - categorical_accuracy: 0.7214 - val_loss: 0.6123 - val_categorical_accuracy: 0.7254\n",
            "Epoch 542/600\n",
            "16342/16342 [==============================] - 11s 698us/sample - loss: 0.6366 - categorical_accuracy: 0.7204 - val_loss: 0.6223 - val_categorical_accuracy: 0.7327\n",
            "Epoch 543/600\n",
            "16342/16342 [==============================] - 11s 699us/sample - loss: 0.6394 - categorical_accuracy: 0.7230 - val_loss: 0.6111 - val_categorical_accuracy: 0.7249\n",
            "Epoch 544/600\n",
            "16342/16342 [==============================] - 11s 698us/sample - loss: 0.6324 - categorical_accuracy: 0.7254 - val_loss: 0.6072 - val_categorical_accuracy: 0.7303\n",
            "Epoch 545/600\n",
            "16342/16342 [==============================] - 11s 704us/sample - loss: 0.6380 - categorical_accuracy: 0.7215 - val_loss: 0.6105 - val_categorical_accuracy: 0.7249\n",
            "Epoch 546/600\n",
            "16342/16342 [==============================] - 11s 699us/sample - loss: 0.6376 - categorical_accuracy: 0.7218 - val_loss: 0.6059 - val_categorical_accuracy: 0.7327\n",
            "Epoch 547/600\n",
            "16342/16342 [==============================] - 11s 700us/sample - loss: 0.6333 - categorical_accuracy: 0.7260 - val_loss: 0.6107 - val_categorical_accuracy: 0.7357\n",
            "Epoch 548/600\n",
            "16342/16342 [==============================] - 11s 698us/sample - loss: 0.6319 - categorical_accuracy: 0.7259 - val_loss: 0.6060 - val_categorical_accuracy: 0.7342\n",
            "Epoch 549/600\n",
            "16342/16342 [==============================] - 11s 700us/sample - loss: 0.6352 - categorical_accuracy: 0.7229 - val_loss: 0.6027 - val_categorical_accuracy: 0.7347\n",
            "Epoch 550/600\n",
            "16342/16342 [==============================] - 12s 704us/sample - loss: 0.6330 - categorical_accuracy: 0.7259 - val_loss: 0.6044 - val_categorical_accuracy: 0.7298\n",
            "Epoch 551/600\n",
            "16342/16342 [==============================] - 11s 700us/sample - loss: 0.6348 - categorical_accuracy: 0.7263 - val_loss: 0.6159 - val_categorical_accuracy: 0.7352\n",
            "Epoch 552/600\n",
            "16342/16342 [==============================] - 11s 698us/sample - loss: 0.6330 - categorical_accuracy: 0.7235 - val_loss: 0.6221 - val_categorical_accuracy: 0.7181\n",
            "Epoch 553/600\n",
            "16342/16342 [==============================] - 11s 703us/sample - loss: 0.6341 - categorical_accuracy: 0.7246 - val_loss: 0.6116 - val_categorical_accuracy: 0.7342\n",
            "Epoch 554/600\n",
            "16342/16342 [==============================] - 11s 701us/sample - loss: 0.6344 - categorical_accuracy: 0.7225 - val_loss: 0.6613 - val_categorical_accuracy: 0.6926\n",
            "Epoch 555/600\n",
            "16342/16342 [==============================] - 11s 697us/sample - loss: 0.6365 - categorical_accuracy: 0.7233 - val_loss: 0.6049 - val_categorical_accuracy: 0.7323\n",
            "Epoch 556/600\n",
            "16342/16342 [==============================] - 11s 700us/sample - loss: 0.6311 - categorical_accuracy: 0.7262 - val_loss: 0.6154 - val_categorical_accuracy: 0.7254\n",
            "Epoch 557/600\n",
            "16342/16342 [==============================] - 11s 698us/sample - loss: 0.6332 - categorical_accuracy: 0.7251 - val_loss: 0.6086 - val_categorical_accuracy: 0.7416\n",
            "Epoch 558/600\n",
            "16342/16342 [==============================] - 11s 702us/sample - loss: 0.6337 - categorical_accuracy: 0.7253 - val_loss: 0.6001 - val_categorical_accuracy: 0.7323\n",
            "Epoch 559/600\n",
            "16342/16342 [==============================] - 11s 700us/sample - loss: 0.6316 - categorical_accuracy: 0.7246 - val_loss: 0.6023 - val_categorical_accuracy: 0.7332\n",
            "Epoch 560/600\n",
            "16342/16342 [==============================] - 11s 698us/sample - loss: 0.6305 - categorical_accuracy: 0.7271 - val_loss: 0.5999 - val_categorical_accuracy: 0.7337\n",
            "Epoch 561/600\n",
            "16342/16342 [==============================] - 11s 697us/sample - loss: 0.6321 - categorical_accuracy: 0.7254 - val_loss: 0.5982 - val_categorical_accuracy: 0.7313\n",
            "Epoch 562/600\n",
            "16342/16342 [==============================] - 11s 703us/sample - loss: 0.6322 - categorical_accuracy: 0.7246 - val_loss: 0.6021 - val_categorical_accuracy: 0.7303\n",
            "Epoch 563/600\n",
            "16342/16342 [==============================] - 11s 700us/sample - loss: 0.6302 - categorical_accuracy: 0.7251 - val_loss: 0.6040 - val_categorical_accuracy: 0.7269\n",
            "Epoch 564/600\n",
            "16342/16342 [==============================] - 11s 699us/sample - loss: 0.6289 - categorical_accuracy: 0.7272 - val_loss: 0.5972 - val_categorical_accuracy: 0.7332\n",
            "Epoch 565/600\n",
            "16342/16342 [==============================] - 11s 698us/sample - loss: 0.6317 - categorical_accuracy: 0.7257 - val_loss: 0.5972 - val_categorical_accuracy: 0.7376\n",
            "Epoch 566/600\n",
            "16342/16342 [==============================] - 11s 702us/sample - loss: 0.6327 - categorical_accuracy: 0.7243 - val_loss: 0.5960 - val_categorical_accuracy: 0.7347\n",
            "Epoch 567/600\n",
            "16342/16342 [==============================] - 11s 702us/sample - loss: 0.6298 - categorical_accuracy: 0.7284 - val_loss: 0.6007 - val_categorical_accuracy: 0.7381\n",
            "Epoch 568/600\n",
            "16342/16342 [==============================] - 11s 698us/sample - loss: 0.6289 - categorical_accuracy: 0.7291 - val_loss: 0.5984 - val_categorical_accuracy: 0.7406\n",
            "Epoch 569/600\n",
            "16342/16342 [==============================] - 11s 698us/sample - loss: 0.6288 - categorical_accuracy: 0.7271 - val_loss: 0.5956 - val_categorical_accuracy: 0.7362\n",
            "Epoch 570/600\n",
            "16342/16342 [==============================] - 11s 698us/sample - loss: 0.6278 - categorical_accuracy: 0.7290 - val_loss: 0.6049 - val_categorical_accuracy: 0.7230\n",
            "Epoch 571/600\n",
            "16342/16342 [==============================] - 11s 698us/sample - loss: 0.6298 - categorical_accuracy: 0.7278 - val_loss: 0.5981 - val_categorical_accuracy: 0.7357\n",
            "Epoch 572/600\n",
            "16342/16342 [==============================] - 11s 698us/sample - loss: 0.6270 - categorical_accuracy: 0.7294 - val_loss: 0.6158 - val_categorical_accuracy: 0.7259\n",
            "Epoch 573/600\n",
            "16342/16342 [==============================] - 11s 696us/sample - loss: 0.6289 - categorical_accuracy: 0.7245 - val_loss: 0.5960 - val_categorical_accuracy: 0.7460\n",
            "Epoch 574/600\n",
            "16342/16342 [==============================] - 11s 698us/sample - loss: 0.6282 - categorical_accuracy: 0.7269 - val_loss: 0.6043 - val_categorical_accuracy: 0.7416\n",
            "Epoch 575/600\n",
            "16342/16342 [==============================] - 11s 699us/sample - loss: 0.6272 - categorical_accuracy: 0.7290 - val_loss: 0.6178 - val_categorical_accuracy: 0.7210\n",
            "Epoch 576/600\n",
            "16342/16342 [==============================] - 11s 698us/sample - loss: 0.6278 - categorical_accuracy: 0.7276 - val_loss: 0.5931 - val_categorical_accuracy: 0.7440\n",
            "Epoch 577/600\n",
            "16342/16342 [==============================] - 12s 704us/sample - loss: 0.6271 - categorical_accuracy: 0.7270 - val_loss: 0.5938 - val_categorical_accuracy: 0.7376\n",
            "Epoch 578/600\n",
            "16342/16342 [==============================] - 11s 699us/sample - loss: 0.6238 - categorical_accuracy: 0.7314 - val_loss: 0.5923 - val_categorical_accuracy: 0.7420\n",
            "Epoch 579/600\n",
            "16342/16342 [==============================] - 11s 698us/sample - loss: 0.6256 - categorical_accuracy: 0.7292 - val_loss: 0.5997 - val_categorical_accuracy: 0.7425\n",
            "Epoch 580/600\n",
            "16342/16342 [==============================] - 11s 699us/sample - loss: 0.6255 - categorical_accuracy: 0.7308 - val_loss: 0.5918 - val_categorical_accuracy: 0.7396\n",
            "Epoch 581/600\n",
            "16342/16342 [==============================] - 11s 700us/sample - loss: 0.6262 - categorical_accuracy: 0.7285 - val_loss: 0.5969 - val_categorical_accuracy: 0.7347\n",
            "Epoch 582/600\n",
            "16342/16342 [==============================] - 11s 699us/sample - loss: 0.6260 - categorical_accuracy: 0.7298 - val_loss: 0.5922 - val_categorical_accuracy: 0.7381\n",
            "Epoch 583/600\n",
            "16342/16342 [==============================] - 11s 702us/sample - loss: 0.6237 - categorical_accuracy: 0.7328 - val_loss: 0.5894 - val_categorical_accuracy: 0.7445\n",
            "Epoch 584/600\n",
            "16342/16342 [==============================] - 11s 698us/sample - loss: 0.6265 - categorical_accuracy: 0.7263 - val_loss: 0.5888 - val_categorical_accuracy: 0.7411\n",
            "Epoch 585/600\n",
            "16342/16342 [==============================] - 11s 698us/sample - loss: 0.6227 - categorical_accuracy: 0.7339 - val_loss: 0.5963 - val_categorical_accuracy: 0.7376\n",
            "Epoch 586/600\n",
            "16342/16342 [==============================] - 11s 698us/sample - loss: 0.6221 - categorical_accuracy: 0.7324 - val_loss: 0.5953 - val_categorical_accuracy: 0.7332\n",
            "Epoch 587/600\n",
            "16342/16342 [==============================] - 11s 699us/sample - loss: 0.6230 - categorical_accuracy: 0.7307 - val_loss: 0.5879 - val_categorical_accuracy: 0.7406\n",
            "Epoch 588/600\n",
            "16342/16342 [==============================] - 11s 700us/sample - loss: 0.6219 - categorical_accuracy: 0.7320 - val_loss: 0.6025 - val_categorical_accuracy: 0.7264\n",
            "Epoch 589/600\n",
            "16342/16342 [==============================] - 11s 703us/sample - loss: 0.6269 - categorical_accuracy: 0.7301 - val_loss: 0.5907 - val_categorical_accuracy: 0.7391\n",
            "Epoch 590/600\n",
            "16342/16342 [==============================] - 11s 699us/sample - loss: 0.6218 - categorical_accuracy: 0.7320 - val_loss: 0.5884 - val_categorical_accuracy: 0.7386\n",
            "Epoch 591/600\n",
            "16342/16342 [==============================] - 11s 697us/sample - loss: 0.6226 - categorical_accuracy: 0.7293 - val_loss: 0.5866 - val_categorical_accuracy: 0.7416\n",
            "Epoch 592/600\n",
            "16342/16342 [==============================] - 11s 698us/sample - loss: 0.6202 - categorical_accuracy: 0.7308 - val_loss: 0.5905 - val_categorical_accuracy: 0.7450\n",
            "Epoch 593/600\n",
            "16342/16342 [==============================] - 11s 701us/sample - loss: 0.6197 - categorical_accuracy: 0.7323 - val_loss: 0.6263 - val_categorical_accuracy: 0.7156\n",
            "Epoch 594/600\n",
            "16342/16342 [==============================] - 11s 702us/sample - loss: 0.6203 - categorical_accuracy: 0.7317 - val_loss: 0.5936 - val_categorical_accuracy: 0.7337\n",
            "Epoch 595/600\n",
            "16342/16342 [==============================] - 11s 698us/sample - loss: 0.6228 - categorical_accuracy: 0.7282 - val_loss: 0.5871 - val_categorical_accuracy: 0.7406\n",
            "Epoch 596/600\n",
            "16342/16342 [==============================] - 11s 699us/sample - loss: 0.6246 - categorical_accuracy: 0.7286 - val_loss: 0.6085 - val_categorical_accuracy: 0.7298\n",
            "Epoch 597/600\n",
            "16342/16342 [==============================] - 11s 699us/sample - loss: 0.6199 - categorical_accuracy: 0.7286 - val_loss: 0.5990 - val_categorical_accuracy: 0.7372\n",
            "Epoch 598/600\n",
            "16342/16342 [==============================] - 11s 703us/sample - loss: 0.6175 - categorical_accuracy: 0.7339 - val_loss: 0.5900 - val_categorical_accuracy: 0.7352\n",
            "Epoch 599/600\n",
            "16342/16342 [==============================] - 11s 700us/sample - loss: 0.6234 - categorical_accuracy: 0.7318 - val_loss: 0.5856 - val_categorical_accuracy: 0.7411\n",
            "Epoch 600/600\n",
            "16342/16342 [==============================] - 11s 698us/sample - loss: 0.6170 - categorical_accuracy: 0.7325 - val_loss: 0.5879 - val_categorical_accuracy: 0.7372\n",
            "5018.088250000001\n"
          ]
        }
      ],
      "source": [
        "import time\n",
        "start = time.clock()\n",
        "history = model.fit(x_train, t_train, batch_size=batch_size, epochs=n_epochs, verbose=1, validation_data=(x_dev, t_dev))    \n",
        "print (time.clock() - start)"
      ]
    },
    {
      "cell_type": "code",
      "execution_count": null,
      "metadata": {
        "colab": {
          "base_uri": "https://localhost:8080/",
          "height": 358
        },
        "colab_type": "code",
        "id": "ei8jQFBcgqQ1",
        "outputId": "82074c05-f2f7-4835-aa5d-edd3aeddc64f"
      },
      "outputs": [
        {
          "data": {
            "image/png": "[encoded data removed]",
            "text/plain": [
              "<Figure size 576x360 with 1 Axes>"
            ]
          },
          "metadata": {
            "tags": []
          },
          "output_type": "display_data"
        }
      ],
      "source": [
        "results=pd.DataFrame(history.history)\n",
        "results.plot(figsize=(8, 5))\n",
        "plt.grid(True)\n",
        "plt.xlabel (\"Epochs\")\n",
        "plt.ylabel (\"Accuracy - Mean Log Loss\")\n",
        "plt.gca().set_ylim(0, 1) # set the vertical range to [0-1]\n",
        "plt.show()"
      ]
    },
    {
      "cell_type": "markdown",
      "metadata": {
        "colab_type": "text",
        "id": "ESvg7wr-slAk"
      },
      "source": [
        "Note how the learning curves are plain. BP learning algorithm converges slowly or to a poor local optimum. "
      ]
    },
    {
      "cell_type": "code",
      "execution_count": null,
      "metadata": {
        "colab": {
          "base_uri": "https://localhost:8080/",
          "height": 213
        },
        "colab_type": "code",
        "id": "UV5Pfxp8hAWZ",
        "outputId": "e737c579-493c-40b0-fba0-2fa7962d1b30"
      },
      "outputs": [
        {
          "data": {
            "text/plain": [
              "{'batch_size': 500,\n",
              " 'do_validation': True,\n",
              " 'epochs': 600,\n",
              " 'metrics': ['loss',\n",
              "  'categorical_accuracy',\n",
              "  'val_loss',\n",
              "  'val_categorical_accuracy'],\n",
              " 'samples': 16342,\n",
              " 'steps': None,\n",
              " 'verbose': 0}"
            ]
          },
          "execution_count": 19,
          "metadata": {
            "tags": []
          },
          "output_type": "execute_result"
        }
      ],
      "source": [
        "history.params"
      ]
    },
    {
      "cell_type": "code",
      "execution_count": null,
      "metadata": {
        "colab": {
          "base_uri": "https://localhost:8080/",
          "height": 101
        },
        "colab_type": "code",
        "id": "roAiIXx2h7Gw",
        "outputId": "fe3de481-d46e-4db0-83b6-1d9039c1cfb9"
      },
      "outputs": [
        {
          "data": {
            "text/html": [
              "<div>\n",
              "<style scoped>\n",
              "    .dataframe tbody tr th:only-of-type {\n",
              "        vertical-align: middle;\n",
              "    }\n",
              "\n",
              "    .dataframe tbody tr th {\n",
              "        vertical-align: top;\n",
              "    }\n",
              "\n",
              "    .dataframe thead th {\n",
              "        text-align: right;\n",
              "    }\n",
              "</style>\n",
              "<table border=\"1\" class=\"dataframe\">\n",
              "  <thead>\n",
              "    <tr style=\"text-align: right;\">\n",
              "      <th></th>\n",
              "      <th>loss</th>\n",
              "      <th>categorical_accuracy</th>\n",
              "      <th>val_loss</th>\n",
              "      <th>val_categorical_accuracy</th>\n",
              "    </tr>\n",
              "  </thead>\n",
              "  <tbody>\n",
              "    <tr>\n",
              "      <th>599</th>\n",
              "      <td>0.616998</td>\n",
              "      <td>0.73253</td>\n",
              "      <td>0.587924</td>\n",
              "      <td>0.737151</td>\n",
              "    </tr>\n",
              "  </tbody>\n",
              "</table>\n",
              "</div>"
            ],
            "text/plain": [
              "         loss  categorical_accuracy  val_loss  val_categorical_accuracy\n",
              "599  0.616998               0.73253  0.587924                  0.737151"
            ]
          },
          "execution_count": 20,
          "metadata": {
            "tags": []
          },
          "output_type": "execute_result"
        }
      ],
      "source": [
        "results[-1:]"
      ]
    },
    {
      "cell_type": "code",
      "execution_count": null,
      "metadata": {
        "colab": {
          "base_uri": "https://localhost:8080/",
          "height": 55
        },
        "colab_type": "code",
        "id": "PWFtUYNKqqmX",
        "outputId": "f3daaeac-fde0-4e95-dc26-8ad75acad733"
      },
      "outputs": [
        {
          "name": "stdout",
          "output_type": "stream",
          "text": [
            "Accuracy for the training set:  0.7325296998023987\n"
          ]
        }
      ],
      "source": [
        "print (\"Accuracy for the training set: \", results.categorical_accuracy.values[-1:][0])"
      ]
    },
    {
      "cell_type": "code",
      "execution_count": null,
      "metadata": {
        "colab": {
          "base_uri": "https://localhost:8080/",
          "height": 55
        },
        "colab_type": "code",
        "id": "yP53JgeQqqma",
        "outputId": "a8064e6a-b2b8-4eef-bd02-c79ce5178530",
        "scrolled": true
      },
      "outputs": [
        {
          "name": "stdout",
          "output_type": "stream",
          "text": [
            "Accuracy for the development test set:  0.7371512651443481\n"
          ]
        }
      ],
      "source": [
        "print (\"Accuracy for the development test set: \", results.val_categorical_accuracy.values[-1:][0])"
      ]
    },
    {
      "cell_type": "markdown",
      "metadata": {
        "colab_type": "text",
        "id": "2wtSZeG6fH_V"
      },
      "source": [
        "Now the accuracy is 73% on training and 73% on the develoment test set, worse than those achieved with just one hidden layer with 1,000 neurons. Moreover, the training process takes 83 minutes to accomplish 600 epochs, about 20,000 iterations with a batch size of 500.   "
      ]
    },
    {
      "cell_type": "markdown",
      "metadata": {
        "colab_type": "text",
        "id": "H5X5iQSKfTOY"
      },
      "source": [
        "Let's see how the model predicts on the development test set:"
      ]
    },
    {
      "cell_type": "code",
      "execution_count": null,
      "metadata": {
        "colab": {
          "base_uri": "https://localhost:8080/",
          "height": 389
        },
        "colab_type": "code",
        "id": "t3gUC7-vfgL8",
        "outputId": "9b650c36-3f65-4861-b224-d8ff95c91759"
      },
      "outputs": [
        {
          "data": {
            "text/plain": [
              "array([[0.35, 0.61, 0.05],\n",
              "       [0.  , 0.06, 0.94],\n",
              "       [0.91, 0.09, 0.  ],\n",
              "       [0.02, 0.29, 0.69],\n",
              "       [0.71, 0.26, 0.03],\n",
              "       [0.02, 0.5 , 0.47],\n",
              "       [0.01, 0.38, 0.61],\n",
              "       [0.  , 0.05, 0.95],\n",
              "       [0.  , 0.  , 1.  ],\n",
              "       [0.74, 0.24, 0.02],\n",
              "       [0.15, 0.74, 0.11],\n",
              "       [0.42, 0.51, 0.07],\n",
              "       [0.4 , 0.48, 0.12],\n",
              "       [0.33, 0.48, 0.18],\n",
              "       [0.91, 0.09, 0.  ],\n",
              "       [0.01, 0.1 , 0.9 ],\n",
              "       [0.92, 0.07, 0.  ],\n",
              "       [0.  , 0.05, 0.95],\n",
              "       [0.1 , 0.7 , 0.2 ],\n",
              "       [0.  , 0.02, 0.98]], dtype=float32)"
            ]
          },
          "execution_count": 23,
          "metadata": {
            "tags": []
          },
          "output_type": "execute_result"
        }
      ],
      "source": [
        "dev_predictions=model.predict(x_dev).round(2)\n",
        "dev_predictions[:20]\n"
      ]
    },
    {
      "cell_type": "code",
      "execution_count": null,
      "metadata": {
        "colab": {
          "base_uri": "https://localhost:8080/",
          "height": 389
        },
        "colab_type": "code",
        "id": "JGueKhZHqqmd",
        "outputId": "e8860e58-86fc-43a5-9dea-6d4620cb58bb"
      },
      "outputs": [
        {
          "data": {
            "text/plain": [
              "array([[0., 1., 0.],\n",
              "       [0., 0., 1.],\n",
              "       [1., 0., 0.],\n",
              "       [0., 0., 1.],\n",
              "       [1., 0., 0.],\n",
              "       [0., 1., 0.],\n",
              "       [0., 0., 1.],\n",
              "       [0., 0., 1.],\n",
              "       [0., 0., 1.],\n",
              "       [1., 0., 0.],\n",
              "       [0., 1., 0.],\n",
              "       [0., 1., 0.],\n",
              "       [0., 1., 0.],\n",
              "       [0., 1., 0.],\n",
              "       [1., 0., 0.],\n",
              "       [0., 0., 1.],\n",
              "       [1., 0., 0.],\n",
              "       [0., 0., 1.],\n",
              "       [0., 1., 0.],\n",
              "       [0., 0., 1.]], dtype=float32)"
            ]
          },
          "execution_count": 24,
          "metadata": {
            "tags": []
          },
          "output_type": "execute_result"
        }
      ],
      "source": [
        "dev_rounded_predictions=np.round(dev_predictions)\n",
        "indices = np.argmax(dev_predictions,1)\n",
        "for row, index in zip(dev_rounded_predictions, indices): row[index]=1\n",
        "dev_rounded_predictions[:20]"
      ]
    },
    {
      "cell_type": "code",
      "execution_count": null,
      "metadata": {
        "colab": {
          "base_uri": "https://localhost:8080/",
          "height": 389
        },
        "colab_type": "code",
        "id": "vWmB9Pc-qqme",
        "outputId": "83c88f77-6459-411a-9863-6bc421d79815"
      },
      "outputs": [
        {
          "data": {
            "text/plain": [
              "array([[1., 0., 0.],\n",
              "       [0., 0., 1.],\n",
              "       [1., 0., 0.],\n",
              "       [0., 1., 0.],\n",
              "       [0., 1., 0.],\n",
              "       [0., 1., 0.],\n",
              "       [0., 0., 1.],\n",
              "       [0., 0., 1.],\n",
              "       [0., 0., 1.],\n",
              "       [0., 1., 0.],\n",
              "       [0., 1., 0.],\n",
              "       [0., 1., 0.],\n",
              "       [1., 0., 0.],\n",
              "       [0., 0., 1.],\n",
              "       [1., 0., 0.],\n",
              "       [0., 0., 1.],\n",
              "       [1., 0., 0.],\n",
              "       [0., 0., 1.],\n",
              "       [0., 1., 0.],\n",
              "       [0., 0., 1.]])"
            ]
          },
          "execution_count": 25,
          "metadata": {
            "tags": []
          },
          "output_type": "execute_result"
        }
      ],
      "source": [
        "t_dev[:20] #target classes"
      ]
    },
    {
      "cell_type": "code",
      "execution_count": null,
      "metadata": {
        "colab": {
          "base_uri": "https://localhost:8080/",
          "height": 90
        },
        "colab_type": "code",
        "id": "efzEzJ5tqqmf",
        "outputId": "1267c44c-914f-4043-8cd5-705460fec52f"
      },
      "outputs": [
        {
          "name": "stdout",
          "output_type": "stream",
          "text": [
            "[False  True  True False False  True  True  True  True False  True  True\n",
            " False False  True  True  True  True  True  True  True False  True  True\n",
            "  True  True  True  True  True  True]\n"
          ]
        }
      ],
      "source": [
        "dev_correct_predictions = np.equal(np.argmax(dev_rounded_predictions,1),np.argmax(t_dev,1))\n",
        "print (dev_correct_predictions[:30])"
      ]
    },
    {
      "cell_type": "code",
      "execution_count": null,
      "metadata": {
        "colab": {
          "base_uri": "https://localhost:8080/",
          "height": 55
        },
        "colab_type": "code",
        "id": "w9vjCo41Zn_e",
        "outputId": "08c51584-647b-4742-eebd-f1fc155f0225"
      },
      "outputs": [
        {
          "data": {
            "text/plain": [
              "Counter({False: 539, True: 1504})"
            ]
          },
          "execution_count": 27,
          "metadata": {
            "tags": []
          },
          "output_type": "execute_result"
        }
      ],
      "source": [
        "from collections import Counter\n",
        "Counter (dev_correct_predictions)"
      ]
    },
    {
      "cell_type": "markdown",
      "metadata": {
        "colab_type": "text",
        "id": "qmH4txRThl6M"
      },
      "source": [
        "Obviously, this model makes more mistakes than the one-hidden layer neural network with 1,000 neurons.   "
      ]
    }
  ],
  "metadata": {
    "accelerator": "GPU",
    "colab": {
      "collapsed_sections": [],
      "name": "5.MedianHouseValue. Tanh Deep Keras ANN.ipynb",
      "provenance": []
    },
    "kernelspec": {
      "display_name": "Python 3",
      "name": "python3"
    },
    "language_info": {
      "codemirror_mode": {
        "name": "ipython",
        "version": 3
      },
      "file_extension": ".py",
      "mimetype": "text/x-python",
      "name": "python",
      "nbconvert_exporter": "python",
      "pygments_lexer": "ipython3",
      "version": "3.6.7"
    }
  },
  "nbformat": 4,
  "nbformat_minor": 0
}
